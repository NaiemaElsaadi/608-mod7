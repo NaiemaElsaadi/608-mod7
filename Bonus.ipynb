{
 "cells": [
  {
   "cell_type": "markdown",
   "id": "3f4a6cc3-d6cf-412d-bfb2-d455566ac5e9",
   "metadata": {},
   "source": [
    "# Bonus\n",
    "<b>Naiema Elsaadi"
   ]
  },
  {
   "cell_type": "markdown",
   "id": "e44dfd9b-520d-4431-88b0-3ff8dfb64634",
   "metadata": {},
   "source": [
    "# Maximum Temperature in Columbia, Missouri in October from 1970 to 2018"
   ]
  },
  {
   "cell_type": "code",
   "execution_count": 1,
   "id": "7c4ae545-3790-4961-aeb8-8f30dd79b36f",
   "metadata": {},
   "outputs": [],
   "source": [
    "%matplotlib inline"
   ]
  },
  {
   "cell_type": "code",
   "execution_count": 2,
   "id": "fbbea9da-b9f0-4b0e-8fb4-e1836058a80c",
   "metadata": {},
   "outputs": [],
   "source": [
    "import pandas as pd "
   ]
  },
  {
   "cell_type": "code",
   "execution_count": 3,
   "id": "b3a6881a-85f7-4ea8-9c77-1d2a5d061280",
   "metadata": {},
   "outputs": [],
   "source": [
    "cm = pd.read_csv('tmax-1-10-1970-2018.csv') "
   ]
  },
  {
   "cell_type": "code",
   "execution_count": 4,
   "id": "046073fc-5c9e-488e-aeca-c56b6f876fb0",
   "metadata": {},
   "outputs": [
    {
     "data": {
      "text/html": [
       "<div>\n",
       "<style scoped>\n",
       "    .dataframe tbody tr th:only-of-type {\n",
       "        vertical-align: middle;\n",
       "    }\n",
       "\n",
       "    .dataframe tbody tr th {\n",
       "        vertical-align: top;\n",
       "    }\n",
       "\n",
       "    .dataframe thead th {\n",
       "        text-align: right;\n",
       "    }\n",
       "</style>\n",
       "<table border=\"1\" class=\"dataframe\">\n",
       "  <thead>\n",
       "    <tr style=\"text-align: right;\">\n",
       "      <th></th>\n",
       "      <th>Date</th>\n",
       "      <th>Value</th>\n",
       "      <th>Anomaly</th>\n",
       "    </tr>\n",
       "  </thead>\n",
       "  <tbody>\n",
       "    <tr>\n",
       "      <th>0</th>\n",
       "      <td>197010</td>\n",
       "      <td>66.4</td>\n",
       "      <td>-2.4</td>\n",
       "    </tr>\n",
       "    <tr>\n",
       "      <th>1</th>\n",
       "      <td>197110</td>\n",
       "      <td>74.9</td>\n",
       "      <td>6.1</td>\n",
       "    </tr>\n",
       "    <tr>\n",
       "      <th>2</th>\n",
       "      <td>197210</td>\n",
       "      <td>64.4</td>\n",
       "      <td>-4.4</td>\n",
       "    </tr>\n",
       "    <tr>\n",
       "      <th>3</th>\n",
       "      <td>197310</td>\n",
       "      <td>72.9</td>\n",
       "      <td>4.1</td>\n",
       "    </tr>\n",
       "    <tr>\n",
       "      <th>4</th>\n",
       "      <td>197410</td>\n",
       "      <td>71.3</td>\n",
       "      <td>2.5</td>\n",
       "    </tr>\n",
       "  </tbody>\n",
       "</table>\n",
       "</div>"
      ],
      "text/plain": [
       "     Date  Value  Anomaly\n",
       "0  197010   66.4     -2.4\n",
       "1  197110   74.9      6.1\n",
       "2  197210   64.4     -4.4\n",
       "3  197310   72.9      4.1\n",
       "4  197410   71.3      2.5"
      ]
     },
     "execution_count": 4,
     "metadata": {},
     "output_type": "execute_result"
    }
   ],
   "source": [
    "cm.head()"
   ]
  },
  {
   "cell_type": "code",
   "execution_count": 5,
   "id": "1b21cbf0-5dfa-4a14-881e-802ac300c4b3",
   "metadata": {},
   "outputs": [
    {
     "data": {
      "text/html": [
       "<div>\n",
       "<style scoped>\n",
       "    .dataframe tbody tr th:only-of-type {\n",
       "        vertical-align: middle;\n",
       "    }\n",
       "\n",
       "    .dataframe tbody tr th {\n",
       "        vertical-align: top;\n",
       "    }\n",
       "\n",
       "    .dataframe thead th {\n",
       "        text-align: right;\n",
       "    }\n",
       "</style>\n",
       "<table border=\"1\" class=\"dataframe\">\n",
       "  <thead>\n",
       "    <tr style=\"text-align: right;\">\n",
       "      <th></th>\n",
       "      <th>Date</th>\n",
       "      <th>Value</th>\n",
       "      <th>Anomaly</th>\n",
       "    </tr>\n",
       "  </thead>\n",
       "  <tbody>\n",
       "    <tr>\n",
       "      <th>44</th>\n",
       "      <td>201410</td>\n",
       "      <td>-99.0</td>\n",
       "      <td>-167.8</td>\n",
       "    </tr>\n",
       "    <tr>\n",
       "      <th>45</th>\n",
       "      <td>201510</td>\n",
       "      <td>70.1</td>\n",
       "      <td>1.3</td>\n",
       "    </tr>\n",
       "    <tr>\n",
       "      <th>46</th>\n",
       "      <td>201610</td>\n",
       "      <td>73.2</td>\n",
       "      <td>4.4</td>\n",
       "    </tr>\n",
       "    <tr>\n",
       "      <th>47</th>\n",
       "      <td>201710</td>\n",
       "      <td>69.3</td>\n",
       "      <td>0.5</td>\n",
       "    </tr>\n",
       "    <tr>\n",
       "      <th>48</th>\n",
       "      <td>201810</td>\n",
       "      <td>67.4</td>\n",
       "      <td>-1.4</td>\n",
       "    </tr>\n",
       "  </tbody>\n",
       "</table>\n",
       "</div>"
      ],
      "text/plain": [
       "      Date  Value  Anomaly\n",
       "44  201410  -99.0   -167.8\n",
       "45  201510   70.1      1.3\n",
       "46  201610   73.2      4.4\n",
       "47  201710   69.3      0.5\n",
       "48  201810   67.4     -1.4"
      ]
     },
     "execution_count": 5,
     "metadata": {},
     "output_type": "execute_result"
    }
   ],
   "source": [
    "cm.tail()        ## Bonus Naiema"
   ]
  },
  {
   "cell_type": "code",
   "execution_count": 6,
   "id": "6db51d79-fc1e-448d-8483-6b33793ac9ba",
   "metadata": {},
   "outputs": [],
   "source": [
    "cm.columns = ['Date', 'Temperature', 'Anomaly']"
   ]
  },
  {
   "cell_type": "code",
   "execution_count": 7,
   "id": "91421a90-5240-45ca-9f52-2fc670c9c83a",
   "metadata": {},
   "outputs": [
    {
     "data": {
      "text/html": [
       "<div>\n",
       "<style scoped>\n",
       "    .dataframe tbody tr th:only-of-type {\n",
       "        vertical-align: middle;\n",
       "    }\n",
       "\n",
       "    .dataframe tbody tr th {\n",
       "        vertical-align: top;\n",
       "    }\n",
       "\n",
       "    .dataframe thead th {\n",
       "        text-align: right;\n",
       "    }\n",
       "</style>\n",
       "<table border=\"1\" class=\"dataframe\">\n",
       "  <thead>\n",
       "    <tr style=\"text-align: right;\">\n",
       "      <th></th>\n",
       "      <th>Date</th>\n",
       "      <th>Temperature</th>\n",
       "      <th>Anomaly</th>\n",
       "    </tr>\n",
       "  </thead>\n",
       "  <tbody>\n",
       "    <tr>\n",
       "      <th>0</th>\n",
       "      <td>197010</td>\n",
       "      <td>66.4</td>\n",
       "      <td>-2.4</td>\n",
       "    </tr>\n",
       "    <tr>\n",
       "      <th>1</th>\n",
       "      <td>197110</td>\n",
       "      <td>74.9</td>\n",
       "      <td>6.1</td>\n",
       "    </tr>\n",
       "    <tr>\n",
       "      <th>2</th>\n",
       "      <td>197210</td>\n",
       "      <td>64.4</td>\n",
       "      <td>-4.4</td>\n",
       "    </tr>\n",
       "  </tbody>\n",
       "</table>\n",
       "</div>"
      ],
      "text/plain": [
       "     Date  Temperature  Anomaly\n",
       "0  197010         66.4     -2.4\n",
       "1  197110         74.9      6.1\n",
       "2  197210         64.4     -4.4"
      ]
     },
     "execution_count": 7,
     "metadata": {},
     "output_type": "execute_result"
    }
   ],
   "source": [
    "cm.head(3)"
   ]
  },
  {
   "cell_type": "code",
   "execution_count": 8,
   "id": "2753c093-1ef2-4c56-bd53-0f185bbe34ec",
   "metadata": {},
   "outputs": [
    {
     "data": {
      "text/plain": [
       "dtype('int64')"
      ]
     },
     "execution_count": 8,
     "metadata": {},
     "output_type": "execute_result"
    }
   ],
   "source": [
    "cm.Date.dtype         # Bonus Naiema"
   ]
  },
  {
   "cell_type": "code",
   "execution_count": 9,
   "id": "92bb397b-5201-4e3c-b078-03adbcd88ed6",
   "metadata": {},
   "outputs": [],
   "source": [
    "cm.Date = cm.Date.floordiv(100)"
   ]
  },
  {
   "cell_type": "code",
   "execution_count": 10,
   "id": "64439357-e3fd-470f-9733-b94fa91fbde5",
   "metadata": {},
   "outputs": [
    {
     "data": {
      "text/html": [
       "<div>\n",
       "<style scoped>\n",
       "    .dataframe tbody tr th:only-of-type {\n",
       "        vertical-align: middle;\n",
       "    }\n",
       "\n",
       "    .dataframe tbody tr th {\n",
       "        vertical-align: top;\n",
       "    }\n",
       "\n",
       "    .dataframe thead th {\n",
       "        text-align: right;\n",
       "    }\n",
       "</style>\n",
       "<table border=\"1\" class=\"dataframe\">\n",
       "  <thead>\n",
       "    <tr style=\"text-align: right;\">\n",
       "      <th></th>\n",
       "      <th>Date</th>\n",
       "      <th>Temperature</th>\n",
       "      <th>Anomaly</th>\n",
       "    </tr>\n",
       "  </thead>\n",
       "  <tbody>\n",
       "    <tr>\n",
       "      <th>0</th>\n",
       "      <td>1970</td>\n",
       "      <td>66.4</td>\n",
       "      <td>-2.4</td>\n",
       "    </tr>\n",
       "    <tr>\n",
       "      <th>1</th>\n",
       "      <td>1971</td>\n",
       "      <td>74.9</td>\n",
       "      <td>6.1</td>\n",
       "    </tr>\n",
       "    <tr>\n",
       "      <th>2</th>\n",
       "      <td>1972</td>\n",
       "      <td>64.4</td>\n",
       "      <td>-4.4</td>\n",
       "    </tr>\n",
       "  </tbody>\n",
       "</table>\n",
       "</div>"
      ],
      "text/plain": [
       "   Date  Temperature  Anomaly\n",
       "0  1970         66.4     -2.4\n",
       "1  1971         74.9      6.1\n",
       "2  1972         64.4     -4.4"
      ]
     },
     "execution_count": 10,
     "metadata": {},
     "output_type": "execute_result"
    }
   ],
   "source": [
    "cm.head(3)"
   ]
  },
  {
   "cell_type": "code",
   "execution_count": 11,
   "id": "ece316d8-583c-4bc0-8f10-378b07d051e2",
   "metadata": {},
   "outputs": [
    {
     "data": {
      "text/plain": [
       "count    49.000000\n",
       "mean     65.065306\n",
       "std      24.122081\n",
       "min     -99.000000\n",
       "25%      66.900000\n",
       "50%      68.700000\n",
       "75%      70.700000\n",
       "max      74.900000\n",
       "Name: Temperature, dtype: float64"
      ]
     },
     "execution_count": 11,
     "metadata": {},
     "output_type": "execute_result"
    }
   ],
   "source": [
    "cm.Temperature.describe() "
   ]
  },
  {
   "cell_type": "code",
   "execution_count": 12,
   "id": "06701010-8152-477e-8d83-5d40d0c36e7e",
   "metadata": {},
   "outputs": [],
   "source": [
    "from scipy import stats       ## Bonus Naiema "
   ]
  },
  {
   "cell_type": "code",
   "execution_count": 13,
   "id": "045513c3-cc27-4014-9c83-7af8189b04d8",
   "metadata": {},
   "outputs": [],
   "source": [
    "linear_regression = stats.linregress(x=cm.Date, \n",
    "                                     y=cm.Temperature)"
   ]
  },
  {
   "cell_type": "code",
   "execution_count": 14,
   "id": "0121b315-c230-4c87-9797-1cfc0bf21b15",
   "metadata": {},
   "outputs": [
    {
     "data": {
      "text/plain": [
       "-0.3533571428571429"
      ]
     },
     "execution_count": 14,
     "metadata": {},
     "output_type": "execute_result"
    }
   ],
   "source": [
    "linear_regression.slope "
   ]
  },
  {
   "cell_type": "code",
   "execution_count": 15,
   "id": "21e7f002-ea2c-4a53-a437-d7673a64c887",
   "metadata": {},
   "outputs": [
    {
     "data": {
      "text/plain": [
       "769.659448979592"
      ]
     },
     "execution_count": 15,
     "metadata": {},
     "output_type": "execute_result"
    }
   ],
   "source": [
    "linear_regression.intercept"
   ]
  },
  {
   "cell_type": "code",
   "execution_count": 16,
   "id": "d1b104e6-b9d3-415f-b094-0c7c467bae7d",
   "metadata": {},
   "outputs": [
    {
     "data": {
      "text/plain": [
       "56.23137755102039"
      ]
     },
     "execution_count": 16,
     "metadata": {},
     "output_type": "execute_result"
    }
   ],
   "source": [
    "linear_regression.slope * 2019 + linear_regression.intercept"
   ]
  },
  {
   "cell_type": "code",
   "execution_count": 17,
   "id": "74a17ff1-a930-469a-8d0e-3dab4ee23980",
   "metadata": {},
   "outputs": [
    {
     "data": {
      "text/plain": [
       "101.81444897959182"
      ]
     },
     "execution_count": 17,
     "metadata": {},
     "output_type": "execute_result"
    }
   ],
   "source": [
    "linear_regression.slope * 1890 + linear_regression.intercept"
   ]
  },
  {
   "cell_type": "code",
   "execution_count": 18,
   "id": "5fa6cdd2-b196-4edb-a520-f6c063232670",
   "metadata": {},
   "outputs": [
    {
     "data": {
      "text/plain": [
       "55.52466326530612"
      ]
     },
     "execution_count": 18,
     "metadata": {},
     "output_type": "execute_result"
    }
   ],
   "source": [
    "linear_regression.slope * 2021 + linear_regression.intercept"
   ]
  },
  {
   "cell_type": "code",
   "execution_count": 19,
   "id": "c35a277f-072f-4395-a4f0-ea85d5df0139",
   "metadata": {},
   "outputs": [
    {
     "data": {
      "text/plain": [
       "54.81794897959185"
      ]
     },
     "execution_count": 19,
     "metadata": {},
     "output_type": "execute_result"
    }
   ],
   "source": [
    "linear_regression.slope * 2023 + linear_regression.intercept   ##predict a point in the future."
   ]
  },
  {
   "cell_type": "code",
   "execution_count": 20,
   "id": "f98327a8-5f15-44cd-974f-444a1fec965e",
   "metadata": {},
   "outputs": [
    {
     "data": {
      "text/plain": [
       "45.27730612244898"
      ]
     },
     "execution_count": 20,
     "metadata": {},
     "output_type": "execute_result"
    }
   ],
   "source": [
    "linear_regression.slope * 2050 + linear_regression.intercept   ##predict a point in the future."
   ]
  },
  {
   "cell_type": "code",
   "execution_count": 21,
   "id": "e4402807-4087-4447-9bd3-229ea317361c",
   "metadata": {},
   "outputs": [
    {
     "data": {
      "text/plain": [
       "(10.0, 100.0)"
      ]
     },
     "execution_count": 21,
     "metadata": {},
     "output_type": "execute_result"
    },
    {
     "data": {
      "image/png": "[encoded data removed]",
      "text/plain": [
       "<Figure size 640x480 with 1 Axes>"
      ]
     },
     "metadata": {},
     "output_type": "display_data"
    }
   ],
   "source": [
    "import seaborn as sns      \n",
    "\n",
    "sns.set_style('whitegrid')\n",
    "\n",
    "axes = sns.regplot(x=cm.Date, y=cm.Temperature)\n",
    "\n",
    "axes.set_ylim(10, 100)     ### Naiema Elsaadi"
   ]
  },
  {
   "cell_type": "code",
   "execution_count": 22,
   "id": "36646eba-1f9e-411b-ac63-df33da9cedd7",
   "metadata": {},
   "outputs": [
    {
     "name": "stdout",
     "output_type": "stream",
     "text": [
      "My name is Naiema\n"
     ]
    }
   ],
   "source": [
    "print('My name is Naiema')"
   ]
  }
 ],
 "metadata": {
  "kernelspec": {
   "display_name": "Python 3 (ipykernel)",
   "language": "python",
   "name": "python3"
  },
  "language_info": {
   "codemirror_mode": {
    "name": "ipython",
    "version": 3
   },
   "file_extension": ".py",
   "mimetype": "text/x-python",
   "name": "python",
   "nbconvert_exporter": "python",
   "pygments_lexer": "ipython3",
   "version": "3.9.12"
  }
 },
 "nbformat": 4,
 "nbformat_minor": 5
}
