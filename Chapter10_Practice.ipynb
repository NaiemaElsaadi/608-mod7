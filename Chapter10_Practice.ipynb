{
 "cells": [
  {
   "cell_type": "markdown",
   "id": "d422954c-ad21-4e46-8f6d-d477c3311931",
   "metadata": {},
   "source": [
    "# Chapter10_Practice - Part 1\n",
    "<b> Naiema Elsaadi"
   ]
  },
  {
   "cell_type": "markdown",
   "id": "7256aefe-1bd7-4fee-96ca-280d7b96cc24",
   "metadata": {},
   "source": [
    "# 10.1 Introduction  \n",
    "\n",
    "   *  Crafting Valuable Classes\n",
    "   *  Class Libraries and Object-Based Programming\n",
    "   *  Creating Your Own Custom Classes\n",
    "   *  Inheritance\n",
    "   *  Polymorphism\n",
    "   *  An Entertaining Case Study: Card-Shuffling-and Dealing Simulation\n",
    "   *  Data Classes\n",
    "   *  Other Concepts Introduced in This Chapter"
   ]
  },
  {
   "cell_type": "markdown",
   "id": "c9285672-81c2-49b2-a41d-9035bf375028",
   "metadata": {},
   "source": [
    "# 10.2 Custom Class Account"
   ]
  },
  {
   "cell_type": "markdown",
   "id": "8d69185a-6590-4783-a8af-269794a9d432",
   "metadata": {},
   "source": [
    "# 10.2.1 Test-Driving Class Count\n",
    "<b> Importing Classes Account and Decimal</b>"
   ]
  },
  {
   "cell_type": "code",
   "execution_count": 1,
   "id": "46ad1d39-f374-4b77-be21-821c717c7816",
   "metadata": {},
   "outputs": [
    {
     "name": "stdout",
     "output_type": "stream",
     "text": [
      "C:\\Users\\naiem\\Downloads\\SourceCode (1)\\examples\\ch10\n"
     ]
    }
   ],
   "source": [
    "cd \"C:\\Users\\naiem\\Downloads\\SourceCode (1)\\examples\\ch10\""
   ]
  },
  {
   "cell_type": "code",
   "execution_count": 2,
   "id": "497ba6a3-46cf-454a-9a53-13b779d206b9",
   "metadata": {},
   "outputs": [],
   "source": [
    "from account import Account"
   ]
  },
  {
   "cell_type": "code",
   "execution_count": 3,
   "id": "a7b9c913-f347-4c22-ab55-435ea31372b1",
   "metadata": {},
   "outputs": [],
   "source": [
    "from decimal import Decimal"
   ]
  },
  {
   "cell_type": "markdown",
   "id": "8facc476-3061-465b-996b-46b211575545",
   "metadata": {},
   "source": [
    "<b> Create an Account Object with a Constructor Expression</b>"
   ]
  },
  {
   "cell_type": "code",
   "execution_count": 4,
   "id": "0f210c0c-ecb0-4296-9950-b69252426211",
   "metadata": {},
   "outputs": [],
   "source": [
    "account1 = Account('John Green', Decimal('50.00'))"
   ]
  },
  {
   "cell_type": "markdown",
   "id": "1b946bac-e9e0-42ea-a4ab-dcb0257d2784",
   "metadata": {},
   "source": [
    "<b> Getting an Account's Name and Balance</b>"
   ]
  },
  {
   "cell_type": "code",
   "execution_count": 5,
   "id": "08eb1465-3b7b-4213-91dc-082c63f86d57",
   "metadata": {},
   "outputs": [
    {
     "data": {
      "text/plain": [
       "'John Green'"
      ]
     },
     "execution_count": 5,
     "metadata": {},
     "output_type": "execute_result"
    }
   ],
   "source": [
    "account1.name"
   ]
  },
  {
   "cell_type": "code",
   "execution_count": 6,
   "id": "23d8cb14-8a3e-43f6-8d44-412c7f282965",
   "metadata": {},
   "outputs": [
    {
     "data": {
      "text/plain": [
       "Decimal('50.00')"
      ]
     },
     "execution_count": 6,
     "metadata": {},
     "output_type": "execute_result"
    }
   ],
   "source": [
    "account1.balance"
   ]
  },
  {
   "cell_type": "markdown",
   "id": "bb80eee5-9f68-4d4a-8323-b296a52ba280",
   "metadata": {},
   "source": [
    "<b> Depositing Money into an Account</b>"
   ]
  },
  {
   "cell_type": "code",
   "execution_count": 7,
   "id": "f4fb3cae-0b53-434d-be85-c511cc933558",
   "metadata": {},
   "outputs": [],
   "source": [
    "account1.deposit(Decimal('25.53'))"
   ]
  },
  {
   "cell_type": "code",
   "execution_count": 8,
   "id": "e088c18f-f08c-42de-9732-c8a5666cefb7",
   "metadata": {},
   "outputs": [
    {
     "data": {
      "text/plain": [
       "Decimal('75.53')"
      ]
     },
     "execution_count": 8,
     "metadata": {},
     "output_type": "execute_result"
    }
   ],
   "source": [
    "account1.balance"
   ]
  },
  {
   "cell_type": "markdown",
   "id": "f371b616-6123-433f-85f5-2ceccccbf154",
   "metadata": {},
   "source": [
    "<b> Account Methods Perform Validation</b>"
   ]
  },
  {
   "cell_type": "code",
   "execution_count": 9,
   "id": "cf646bde-0192-4085-a168-8ebc3834479d",
   "metadata": {},
   "outputs": [
    {
     "ename": "ValueError",
     "evalue": "amount must be positive.",
     "output_type": "error",
     "traceback": [
      "\u001b[1;31m---------------------------------------------------------------------------\u001b[0m",
      "\u001b[1;31mValueError\u001b[0m                                Traceback (most recent call last)",
      "Input \u001b[1;32mIn [9]\u001b[0m, in \u001b[0;36m<cell line: 1>\u001b[1;34m()\u001b[0m\n\u001b[1;32m----> 1\u001b[0m \u001b[43maccount1\u001b[49m\u001b[38;5;241;43m.\u001b[39;49m\u001b[43mdeposit\u001b[49m\u001b[43m(\u001b[49m\u001b[43mDecimal\u001b[49m\u001b[43m(\u001b[49m\u001b[38;5;124;43m'\u001b[39;49m\u001b[38;5;124;43m-123.45\u001b[39;49m\u001b[38;5;124;43m'\u001b[39;49m\u001b[43m)\u001b[49m\u001b[43m)\u001b[49m\n",
      "File \u001b[1;32m~\\OneDrive\\Desktop\\44-608\\608-mod7\\account.py:22\u001b[0m, in \u001b[0;36mAccount.deposit\u001b[1;34m(self, amount)\u001b[0m\n\u001b[0;32m     20\u001b[0m \u001b[38;5;66;03m# if amount is less than 0.00, raise an exception\u001b[39;00m\n\u001b[0;32m     21\u001b[0m \u001b[38;5;28;01mif\u001b[39;00m amount \u001b[38;5;241m<\u001b[39m Decimal(\u001b[38;5;124m'\u001b[39m\u001b[38;5;124m0.00\u001b[39m\u001b[38;5;124m'\u001b[39m):\n\u001b[1;32m---> 22\u001b[0m     \u001b[38;5;28;01mraise\u001b[39;00m \u001b[38;5;167;01mValueError\u001b[39;00m(\u001b[38;5;124m'\u001b[39m\u001b[38;5;124mamount must be positive.\u001b[39m\u001b[38;5;124m'\u001b[39m)\n\u001b[0;32m     24\u001b[0m \u001b[38;5;28mself\u001b[39m\u001b[38;5;241m.\u001b[39mbalance \u001b[38;5;241m+\u001b[39m\u001b[38;5;241m=\u001b[39m amount\n",
      "\u001b[1;31mValueError\u001b[0m: amount must be positive."
     ]
    }
   ],
   "source": [
    "account1.deposit(Decimal('-123.45')) "
   ]
  },
  {
   "cell_type": "markdown",
   "id": "a49feb0e-76f5-4df2-bfbf-fcbd056bc033",
   "metadata": {},
   "source": [
    "# 10.2.2 Account Class Definition"
   ]
  },
  {
   "cell_type": "markdown",
   "id": "cc9a2ef3-f097-48ef-9064-d2c1355e2b1c",
   "metadata": {},
   "source": [
    "<b> Defining a Class</b>"
   ]
  },
  {
   "cell_type": "code",
   "execution_count": 10,
   "id": "d28bcee3-f9a3-4577-8be7-bcf81dd7c9f6",
   "metadata": {},
   "outputs": [],
   "source": [
    "# account.py\n",
    "\"\"\"Account class definition.\"\"\"\n",
    "from decimal import Decimal\n",
    "\n",
    "class Account:\n",
    "    \"\"\"Account class for maintaining a bank account balance.\"\"\"\n",
    "    ## Finshed in python\n",
    "    "
   ]
  },
  {
   "cell_type": "code",
   "execution_count": 11,
   "id": "4c3482a4-1d2f-486f-8824-999a62f08109",
   "metadata": {},
   "outputs": [
    {
     "data": {
      "text/plain": [
       "\u001b[1;31mInit signature:\u001b[0m \u001b[0mAccount\u001b[0m\u001b[1;33m(\u001b[0m\u001b[1;33m)\u001b[0m\u001b[1;33m\u001b[0m\u001b[1;33m\u001b[0m\u001b[0m\n",
       "\u001b[1;31mDocstring:\u001b[0m      Account class for maintaining a bank account balance.\n",
       "\u001b[1;31mType:\u001b[0m           type\n",
       "\u001b[1;31mSubclasses:\u001b[0m     \n"
      ]
     },
     "metadata": {},
     "output_type": "display_data"
    }
   ],
   "source": [
    "Account?"
   ]
  },
  {
   "cell_type": "markdown",
   "id": "44c24584-a6da-4bd5-b9b4-27ddf08c0ecb",
   "metadata": {},
   "source": [
    "<b> Initializing Account Objects: Method__init__ </b>"
   ]
  },
  {
   "cell_type": "code",
   "execution_count": 12,
   "id": "dd7d630f-8914-4c5b-8a1b-3028a51fa782",
   "metadata": {},
   "outputs": [],
   "source": [
    "def __init__(self, name, balance):\n",
    "    \"\"\"Initialize an Account Object.\"\"\"\n",
    "    # if balance is less than 0.00, raise an exception\n",
    "    if balance < Decimal('0.00'):\n",
    "        raise ValueError('Initial balance must be >= to 0.00.')\n",
    "    self.name = name\n",
    "    self.balance = balance\n",
    "     ## Finshed in python"
   ]
  },
  {
   "cell_type": "markdown",
   "id": "0d044477-add7-4acc-8de8-6f6073aa1359",
   "metadata": {},
   "source": [
    "<b> Method deposit</b>"
   ]
  },
  {
   "cell_type": "code",
   "execution_count": 13,
   "id": "f8150d36-61a7-4105-916e-91982b6e1544",
   "metadata": {},
   "outputs": [],
   "source": [
    "def deposit(self, amount):\n",
    "    \"\"\"Deposit money to the account.\"\"\"\n",
    "    \n",
    "    # if amount is less than 0.00, raise an exception\n",
    "    if amount < Decimal('0.00'):\n",
    "        raise ValueError('amount must be positive.')\n",
    "        \n",
    "        self.balance += amount\n",
    "         ## Finshed in python"
   ]
  },
  {
   "cell_type": "markdown",
   "id": "eddb3ea4-406c-4f25-8aef-aabb197c426f",
   "metadata": {},
   "source": [
    "# 10.2.3 Composition: Object References as Members of Classes"
   ]
  },
  {
   "cell_type": "markdown",
   "id": "219680d5-d249-4791-86b9-fad68e2d8d79",
   "metadata": {},
   "source": [
    "<b> Self Check </b>"
   ]
  },
  {
   "cell_type": "code",
   "execution_count": 14,
   "id": "5ddf83ec-d694-44dd-8414-7aee0a333977",
   "metadata": {},
   "outputs": [],
   "source": [
    "def withdraw(self, amount):\n",
    "    \"\"\"withdraw money from the account.\"\"\"\n",
    "    \n",
    "    # if amount is greater than balance, raise an exception\n",
    "    if amount > self.balance:\n",
    "        raise ValueError('amount must be <= to balance.')\n",
    "    elif amount < Decimal('0.0'):\n",
    "        raise ValueError('amount must be positive.')\n",
    "        \n",
    "    self.balance -= amount\n",
    "    \n",
    "     ## Finshed in python"
   ]
  },
  {
   "cell_type": "markdown",
   "id": "6c5aea39-9e27-4e45-9bd5-88cd0bfb75f8",
   "metadata": {},
   "source": [
    "<b> Testing method withdraw:</b>"
   ]
  },
  {
   "cell_type": "code",
   "execution_count": 15,
   "id": "8cf16ef9-3a67-422c-8cd1-8a89f4737072",
   "metadata": {},
   "outputs": [],
   "source": [
    "from account import Account"
   ]
  },
  {
   "cell_type": "code",
   "execution_count": 16,
   "id": "f0d2dc6d-0f61-4347-981c-0a75d222b034",
   "metadata": {},
   "outputs": [],
   "source": [
    "from decimal import Decimal"
   ]
  },
  {
   "cell_type": "code",
   "execution_count": 17,
   "id": "f0fde62c-9e40-42ab-b292-3437e9c59464",
   "metadata": {},
   "outputs": [],
   "source": [
    "account1 = Account('John Green' , Decimal('50.00'))"
   ]
  },
  {
   "cell_type": "code",
   "execution_count": 18,
   "id": "65c8f66a-3cca-4b30-817d-2b0473a88112",
   "metadata": {},
   "outputs": [],
   "source": [
    "account1.withdraw(Decimal('20.00'))"
   ]
  },
  {
   "cell_type": "code",
   "execution_count": 19,
   "id": "ad734600-3a64-46e5-87da-460ebc78b04b",
   "metadata": {},
   "outputs": [
    {
     "data": {
      "text/plain": [
       "Decimal('30.00')"
      ]
     },
     "execution_count": 19,
     "metadata": {},
     "output_type": "execute_result"
    }
   ],
   "source": [
    "account1.balance"
   ]
  },
  {
   "cell_type": "code",
   "execution_count": 20,
   "id": "4d521401-3f63-487a-8dfc-39b5f8f2d71b",
   "metadata": {},
   "outputs": [
    {
     "ename": "ValueError",
     "evalue": "amount must be <= to balance.",
     "output_type": "error",
     "traceback": [
      "\u001b[1;31m---------------------------------------------------------------------------\u001b[0m",
      "\u001b[1;31mValueError\u001b[0m                                Traceback (most recent call last)",
      "Input \u001b[1;32mIn [20]\u001b[0m, in \u001b[0;36m<cell line: 1>\u001b[1;34m()\u001b[0m\n\u001b[1;32m----> 1\u001b[0m \u001b[43maccount1\u001b[49m\u001b[38;5;241;43m.\u001b[39;49m\u001b[43mwithdraw\u001b[49m\u001b[43m(\u001b[49m\u001b[43mDecimal\u001b[49m\u001b[43m(\u001b[49m\u001b[38;5;124;43m'\u001b[39;49m\u001b[38;5;124;43m100.00\u001b[39;49m\u001b[38;5;124;43m'\u001b[39;49m\u001b[43m)\u001b[49m\u001b[43m)\u001b[49m\n",
      "File \u001b[1;32m~\\OneDrive\\Desktop\\44-608\\608-mod7\\account.py:31\u001b[0m, in \u001b[0;36mAccount.withdraw\u001b[1;34m(self, amount)\u001b[0m\n\u001b[0;32m     29\u001b[0m \u001b[38;5;66;03m# if amount is greater than balance, raise an exception\u001b[39;00m\n\u001b[0;32m     30\u001b[0m \u001b[38;5;28;01mif\u001b[39;00m amount \u001b[38;5;241m>\u001b[39m \u001b[38;5;28mself\u001b[39m\u001b[38;5;241m.\u001b[39mbalance:\n\u001b[1;32m---> 31\u001b[0m     \u001b[38;5;28;01mraise\u001b[39;00m \u001b[38;5;167;01mValueError\u001b[39;00m(\u001b[38;5;124m'\u001b[39m\u001b[38;5;124mamount must be <= to balance.\u001b[39m\u001b[38;5;124m'\u001b[39m)\n\u001b[0;32m     32\u001b[0m \u001b[38;5;28;01melif\u001b[39;00m amount \u001b[38;5;241m<\u001b[39m Decimal(\u001b[38;5;124m'\u001b[39m\u001b[38;5;124m0.00\u001b[39m\u001b[38;5;124m'\u001b[39m):\n\u001b[0;32m     33\u001b[0m     \u001b[38;5;28;01mraise\u001b[39;00m \u001b[38;5;167;01mValueError\u001b[39;00m(\u001b[38;5;124m'\u001b[39m\u001b[38;5;124mamount must be positive.\u001b[39m\u001b[38;5;124m'\u001b[39m)\n",
      "\u001b[1;31mValueError\u001b[0m: amount must be <= to balance."
     ]
    }
   ],
   "source": [
    "account1.withdraw(Decimal('100.00'))"
   ]
  },
  {
   "cell_type": "code",
   "execution_count": 21,
   "id": "0fbfb982-3fe0-4423-aa85-f564b078cf54",
   "metadata": {},
   "outputs": [
    {
     "ename": "ValueError",
     "evalue": "amount must be positive.",
     "output_type": "error",
     "traceback": [
      "\u001b[1;31m---------------------------------------------------------------------------\u001b[0m",
      "\u001b[1;31mValueError\u001b[0m                                Traceback (most recent call last)",
      "Input \u001b[1;32mIn [21]\u001b[0m, in \u001b[0;36m<cell line: 1>\u001b[1;34m()\u001b[0m\n\u001b[1;32m----> 1\u001b[0m \u001b[43maccount1\u001b[49m\u001b[38;5;241;43m.\u001b[39;49m\u001b[43mwithdraw\u001b[49m\u001b[43m(\u001b[49m\u001b[43mDecimal\u001b[49m\u001b[43m(\u001b[49m\u001b[38;5;124;43m'\u001b[39;49m\u001b[38;5;124;43m-10.00\u001b[39;49m\u001b[38;5;124;43m'\u001b[39;49m\u001b[43m)\u001b[49m\u001b[43m)\u001b[49m\n",
      "File \u001b[1;32m~\\OneDrive\\Desktop\\44-608\\608-mod7\\account.py:33\u001b[0m, in \u001b[0;36mAccount.withdraw\u001b[1;34m(self, amount)\u001b[0m\n\u001b[0;32m     31\u001b[0m     \u001b[38;5;28;01mraise\u001b[39;00m \u001b[38;5;167;01mValueError\u001b[39;00m(\u001b[38;5;124m'\u001b[39m\u001b[38;5;124mamount must be <= to balance.\u001b[39m\u001b[38;5;124m'\u001b[39m)\n\u001b[0;32m     32\u001b[0m \u001b[38;5;28;01melif\u001b[39;00m amount \u001b[38;5;241m<\u001b[39m Decimal(\u001b[38;5;124m'\u001b[39m\u001b[38;5;124m0.00\u001b[39m\u001b[38;5;124m'\u001b[39m):\n\u001b[1;32m---> 33\u001b[0m     \u001b[38;5;28;01mraise\u001b[39;00m \u001b[38;5;167;01mValueError\u001b[39;00m(\u001b[38;5;124m'\u001b[39m\u001b[38;5;124mamount must be positive.\u001b[39m\u001b[38;5;124m'\u001b[39m)\n\u001b[0;32m     35\u001b[0m \u001b[38;5;28mself\u001b[39m\u001b[38;5;241m.\u001b[39mbalance \u001b[38;5;241m-\u001b[39m\u001b[38;5;241m=\u001b[39m amount\n",
      "\u001b[1;31mValueError\u001b[0m: amount must be positive."
     ]
    }
   ],
   "source": [
    "account1.withdraw(Decimal('-10.00'))"
   ]
  },
  {
   "cell_type": "markdown",
   "id": "c127fca2-c4bf-4d07-b449-b16548feb3e8",
   "metadata": {},
   "source": [
    "# 10.3 Controlling Access to Attributes"
   ]
  },
  {
   "cell_type": "code",
   "execution_count": 22,
   "id": "bcccf139-0658-4aac-9275-9691c0e59b1d",
   "metadata": {},
   "outputs": [],
   "source": [
    "from account import Account"
   ]
  },
  {
   "cell_type": "code",
   "execution_count": 23,
   "id": "c8db1324-64d9-427e-b88a-b1d85381679e",
   "metadata": {},
   "outputs": [],
   "source": [
    "from decimal import Decimal"
   ]
  },
  {
   "cell_type": "code",
   "execution_count": 24,
   "id": "44327456-9a20-441c-aef0-353e09605b84",
   "metadata": {},
   "outputs": [],
   "source": [
    "account1 = Account('John Green', Decimal('50.00'))"
   ]
  },
  {
   "cell_type": "code",
   "execution_count": 25,
   "id": "ef05b7b7-4a03-4c03-a8ae-09900fe6ceb9",
   "metadata": {},
   "outputs": [
    {
     "data": {
      "text/plain": [
       "Decimal('50.00')"
      ]
     },
     "execution_count": 25,
     "metadata": {},
     "output_type": "execute_result"
    }
   ],
   "source": [
    "account1.balance"
   ]
  },
  {
   "cell_type": "code",
   "execution_count": 26,
   "id": "de22bbf8-e896-41bd-82a7-5db4d2c890b0",
   "metadata": {},
   "outputs": [],
   "source": [
    "account1.balance = Decimal('-1000.00')"
   ]
  },
  {
   "cell_type": "code",
   "execution_count": 27,
   "id": "64b66c5f-5155-43cb-925a-260e1aea3c96",
   "metadata": {},
   "outputs": [
    {
     "data": {
      "text/plain": [
       "Decimal('-1000.00')"
      ]
     },
     "execution_count": 27,
     "metadata": {},
     "output_type": "execute_result"
    }
   ],
   "source": [
    "account1.balance"
   ]
  },
  {
   "cell_type": "markdown",
   "id": "35e3f33f-2343-44d5-be06-725b6f6fcd4b",
   "metadata": {},
   "source": [
    "# 10.4 Properties for Data Access"
   ]
  },
  {
   "cell_type": "markdown",
   "id": "18dea467-0129-4604-a5c4-ee59f565d910",
   "metadata": {},
   "source": [
    "# 10.4.1 Test-Driving Class Time"
   ]
  },
  {
   "cell_type": "code",
   "execution_count": 28,
   "id": "58f9dc12-f29b-4dce-aa0b-4c631a307885",
   "metadata": {},
   "outputs": [],
   "source": [
    "from timewithproperties import Time"
   ]
  },
  {
   "cell_type": "markdown",
   "id": "44fd322a-334e-4d07-9737-732c840bbd3f",
   "metadata": {},
   "source": [
    "<b> Creating a Time Object</b>"
   ]
  },
  {
   "cell_type": "code",
   "execution_count": 29,
   "id": "3cb61481-4088-4002-96f1-84ac46a18012",
   "metadata": {},
   "outputs": [],
   "source": [
    "wake_up = Time(hour=6, minute=30)"
   ]
  },
  {
   "cell_type": "markdown",
   "id": "4afeb8d4-0e89-4ab5-9d72-986868acf2c8",
   "metadata": {},
   "source": [
    "<b> Displaying a Time Object</b>"
   ]
  },
  {
   "cell_type": "code",
   "execution_count": 30,
   "id": "7e2523c0-3ffb-47b4-9193-7a7153e47dec",
   "metadata": {},
   "outputs": [
    {
     "data": {
      "text/plain": [
       "Time (hour = 6, minute = 30, second = 0)"
      ]
     },
     "execution_count": 30,
     "metadata": {},
     "output_type": "execute_result"
    }
   ],
   "source": [
    "wake_up"
   ]
  },
  {
   "cell_type": "code",
   "execution_count": 31,
   "id": "b6e4769e-44dc-4034-81c0-8d0863517e0d",
   "metadata": {},
   "outputs": [
    {
     "name": "stdout",
     "output_type": "stream",
     "text": [
      "6:30: 00 AM\n"
     ]
    }
   ],
   "source": [
    "print(wake_up)"
   ]
  },
  {
   "cell_type": "markdown",
   "id": "9275edc4-3b6b-4046-88d9-ec15c9d3a6e6",
   "metadata": {},
   "source": [
    "<b> Getting an Attribute Via a Property</b>"
   ]
  },
  {
   "cell_type": "code",
   "execution_count": 32,
   "id": "6b13ffd3-b566-43a5-94f4-ca99246b4b85",
   "metadata": {},
   "outputs": [
    {
     "data": {
      "text/plain": [
       "6"
      ]
     },
     "execution_count": 32,
     "metadata": {},
     "output_type": "execute_result"
    }
   ],
   "source": [
    "wake_up.hour"
   ]
  },
  {
   "cell_type": "markdown",
   "id": "c37528a7-afb0-495c-8d28-56eae182e537",
   "metadata": {},
   "source": [
    "<b> Setting the Time</b>"
   ]
  },
  {
   "cell_type": "code",
   "execution_count": 33,
   "id": "d6a3ce34-05a2-4527-8f19-522f75cbc0ec",
   "metadata": {},
   "outputs": [],
   "source": [
    "wake_up.set_time(hour=7, minute=45)"
   ]
  },
  {
   "cell_type": "code",
   "execution_count": 34,
   "id": "a0c7e279-4990-4b8e-8034-3961db71b608",
   "metadata": {},
   "outputs": [
    {
     "data": {
      "text/plain": [
       "Time (hour = 7, minute = 45, second = 0)"
      ]
     },
     "execution_count": 34,
     "metadata": {},
     "output_type": "execute_result"
    }
   ],
   "source": [
    "wake_up"
   ]
  },
  {
   "cell_type": "markdown",
   "id": "7f97e28d-6aff-46fa-bc7b-ddb2948e4970",
   "metadata": {},
   "source": [
    "<b> Setting an Attribute via a Property</b>"
   ]
  },
  {
   "cell_type": "code",
   "execution_count": 35,
   "id": "1b474edf-8c0f-45cd-a904-abbd7cf56b69",
   "metadata": {},
   "outputs": [],
   "source": [
    "wake_up.hour = 6"
   ]
  },
  {
   "cell_type": "code",
   "execution_count": 36,
   "id": "5fb4729b-ad37-4e9e-9e6f-727b8437c019",
   "metadata": {},
   "outputs": [
    {
     "data": {
      "text/plain": [
       "Time (hour = 6, minute = 45, second = 0)"
      ]
     },
     "execution_count": 36,
     "metadata": {},
     "output_type": "execute_result"
    }
   ],
   "source": [
    "wake_up"
   ]
  },
  {
   "cell_type": "markdown",
   "id": "56dbe060-9bad-450e-ba7e-adf4855d2504",
   "metadata": {},
   "source": [
    "<b> Attempting to set an Invalid Value</b>"
   ]
  },
  {
   "cell_type": "code",
   "execution_count": 37,
   "id": "c028256c-5c38-4a2e-b9b5-e74413806ee3",
   "metadata": {},
   "outputs": [
    {
     "ename": "ValueError",
     "evalue": "Hour (100) must be 0-23",
     "output_type": "error",
     "traceback": [
      "\u001b[1;31m---------------------------------------------------------------------------\u001b[0m",
      "\u001b[1;31mValueError\u001b[0m                                Traceback (most recent call last)",
      "Input \u001b[1;32mIn [37]\u001b[0m, in \u001b[0;36m<cell line: 1>\u001b[1;34m()\u001b[0m\n\u001b[1;32m----> 1\u001b[0m \u001b[43mwake_up\u001b[49m\u001b[38;5;241;43m.\u001b[39;49m\u001b[43mhour\u001b[49m \u001b[38;5;241m=\u001b[39m \u001b[38;5;241m100\u001b[39m\n",
      "File \u001b[1;32m~\\OneDrive\\Desktop\\44-608\\608-mod7\\timewithproperties.py:22\u001b[0m, in \u001b[0;36mTime.hour\u001b[1;34m(self, hour)\u001b[0m\n\u001b[0;32m     20\u001b[0m \u001b[38;5;124;03m\"\"\"Set the hour.\"\"\"\u001b[39;00m\n\u001b[0;32m     21\u001b[0m \u001b[38;5;28;01mif\u001b[39;00m \u001b[38;5;129;01mnot\u001b[39;00m (\u001b[38;5;241m0\u001b[39m \u001b[38;5;241m<\u001b[39m\u001b[38;5;241m=\u001b[39m hour \u001b[38;5;241m<\u001b[39m \u001b[38;5;241m24\u001b[39m):\n\u001b[1;32m---> 22\u001b[0m     \u001b[38;5;28;01mraise\u001b[39;00m \u001b[38;5;167;01mValueError\u001b[39;00m(\u001b[38;5;124mf\u001b[39m\u001b[38;5;124m'\u001b[39m\u001b[38;5;124mHour (\u001b[39m\u001b[38;5;132;01m{\u001b[39;00mhour\u001b[38;5;132;01m}\u001b[39;00m\u001b[38;5;124m) must be 0-23\u001b[39m\u001b[38;5;124m'\u001b[39m)\n\u001b[0;32m     24\u001b[0m \u001b[38;5;28mself\u001b[39m\u001b[38;5;241m.\u001b[39m_hour \u001b[38;5;241m=\u001b[39m hour\n",
      "\u001b[1;31mValueError\u001b[0m: Hour (100) must be 0-23"
     ]
    }
   ],
   "source": [
    "wake_up.hour = 100"
   ]
  },
  {
   "cell_type": "markdown",
   "id": "f3c3a1af-f420-4a90-93b6-2f124f04f0c2",
   "metadata": {},
   "source": [
    "# 10.4.2 Class Time Definition"
   ]
  },
  {
   "cell_type": "markdown",
   "id": "52dcd8cc-c97d-4804-923a-1563b059dece",
   "metadata": {},
   "source": [
    "<b> Class Time:__init__Method With Default Parameter Values,</b>"
   ]
  },
  {
   "cell_type": "code",
   "execution_count": 38,
   "id": "13b6d750-36a4-43df-985d-eed438aaef29",
   "metadata": {},
   "outputs": [],
   "source": [
    "# timewithproperties.py\n",
    "\"\"\"Class Time with read-write properties.\"\"\"\n",
    "\n",
    "class time:\n",
    "    \"\"\"Class Time with read-write properties.\"\"\"\n",
    "    \n",
    "    def __init__(self, hour=0, minute=0, second=0):\n",
    "        \"\"\"Initialize each attribute.\"\"\"\n",
    "        self.hour = hour   # 0-23\n",
    "        self.minute = minute # 0-59\n",
    "        self.second = second # 0-59\n",
    "        \n",
    "         ## Finshed in python"
   ]
  },
  {
   "cell_type": "markdown",
   "id": "80e325f8-d233-40dd-a83e-c68ae080632a",
   "metadata": {},
   "source": [
    "<b> Class Time: hour Read-Write Property</b>"
   ]
  },
  {
   "cell_type": "code",
   "execution_count": 39,
   "id": "7b02a2c1-52d8-46d3-aee1-205e5526f709",
   "metadata": {},
   "outputs": [],
   "source": [
    "@property\n",
    "def hour(self):\n",
    "    \"\"\"Return the hour.\"\"\"\n",
    "    return self._hour\n",
    "@hour.setter\n",
    "def hour(self, hour):\n",
    "    \"\"\"Set the hour.\"\"\"\n",
    "    if not (0 <= hour <24):\n",
    "        raise ValueError(f'Hour({hour}) must be 0-23')\n",
    "        \n",
    "        self._hour = hour\n",
    "        \n",
    "         ## Finshed in python"
   ]
  },
  {
   "cell_type": "markdown",
   "id": "63cd7c37-dc58-4df8-a890-d377f6922121",
   "metadata": {},
   "source": [
    "<b>Class Time: minute and second Read-Write Properties</b>"
   ]
  },
  {
   "cell_type": "code",
   "execution_count": 40,
   "id": "a43657cf-3993-4d1a-8de8-f436f33526ad",
   "metadata": {},
   "outputs": [],
   "source": [
    "### did it in python"
   ]
  },
  {
   "cell_type": "markdown",
   "id": "0db813c7-c5d3-4f32-b159-1136b1246be2",
   "metadata": {},
   "source": [
    "<b> Class Time: Method set_time</b>"
   ]
  },
  {
   "cell_type": "code",
   "execution_count": 41,
   "id": "d4e05e8f-6699-482a-84da-7e9b5c2c073a",
   "metadata": {},
   "outputs": [],
   "source": [
    "###### did it in python"
   ]
  },
  {
   "cell_type": "markdown",
   "id": "7ca5f955-511b-4b67-9475-560dfbac1ecf",
   "metadata": {},
   "source": [
    "<b>Class Time: Special Method__repr__</b>"
   ]
  },
  {
   "cell_type": "code",
   "execution_count": 42,
   "id": "686f80f6-e4f5-497d-99d1-a4aa9f8e74dc",
   "metadata": {},
   "outputs": [],
   "source": [
    "##### did it in python"
   ]
  },
  {
   "cell_type": "markdown",
   "id": "226b2bdf-42d9-4813-b082-ca9ba7a309f6",
   "metadata": {},
   "source": [
    "<b>Class Time: Special Method__str__</b>"
   ]
  },
  {
   "cell_type": "code",
   "execution_count": 43,
   "id": "3bc923b2-8cd3-41a4-a782-86134ac12dbb",
   "metadata": {},
   "outputs": [],
   "source": [
    "#### did it in python"
   ]
  },
  {
   "cell_type": "markdown",
   "id": "c58310ea-affe-4934-bd65-62bbd5e5fbce",
   "metadata": {},
   "source": [
    "<b> Self Check</b>"
   ]
  },
  {
   "cell_type": "code",
   "execution_count": 44,
   "id": "7643c4d4-6b4e-4198-a418-dafbe4a30808",
   "metadata": {},
   "outputs": [],
   "source": [
    "@property\n",
    "def time(self):\n",
    "    \"\"\"Return hour, minute and second as a tuple.\"\"\"\n",
    "    return (self.hour, self.minute, self.second)\n",
    "@time.setter\n",
    "def time(self, time_tuple):\n",
    "    \"\"\"Set time from a tuple containing hour, minute and second.\"\"\"\n",
    "    self.set_time(time_tuple[0], time_tuple[1], time_tuple[2])"
   ]
  },
  {
   "cell_type": "code",
   "execution_count": 45,
   "id": "6d56b6bc-98a0-41b7-8c98-8e9939f36f09",
   "metadata": {},
   "outputs": [],
   "source": [
    "from timewithproperties import Time"
   ]
  },
  {
   "cell_type": "code",
   "execution_count": 46,
   "id": "2550bc54-b1c5-4467-8a69-a787556ac91f",
   "metadata": {},
   "outputs": [],
   "source": [
    "t = Time()"
   ]
  },
  {
   "cell_type": "code",
   "execution_count": 47,
   "id": "5632444a-ebe3-4ea7-843d-d6e3144c51d5",
   "metadata": {},
   "outputs": [
    {
     "data": {
      "text/plain": [
       "Time (hour = 0, minute = 0, second = 0)"
      ]
     },
     "execution_count": 47,
     "metadata": {},
     "output_type": "execute_result"
    }
   ],
   "source": [
    "t"
   ]
  },
  {
   "cell_type": "code",
   "execution_count": 48,
   "id": "fea4442b-10bc-4158-bed2-ee9c326b1f4b",
   "metadata": {},
   "outputs": [],
   "source": [
    "t.time = (12,30,45)"
   ]
  },
  {
   "cell_type": "code",
   "execution_count": 49,
   "id": "19bcf948-d8d3-4a09-b581-275a01120985",
   "metadata": {},
   "outputs": [
    {
     "data": {
      "text/plain": [
       "Time (hour = 12, minute = 30, second = 45)"
      ]
     },
     "execution_count": 49,
     "metadata": {},
     "output_type": "execute_result"
    }
   ],
   "source": [
    "t "
   ]
  },
  {
   "cell_type": "code",
   "execution_count": 50,
   "id": "ce6fecf0-7065-44f8-b041-59927274b797",
   "metadata": {},
   "outputs": [
    {
     "data": {
      "text/plain": [
       "(12, 30, 45)"
      ]
     },
     "execution_count": 50,
     "metadata": {},
     "output_type": "execute_result"
    }
   ],
   "source": [
    "t.time"
   ]
  },
  {
   "cell_type": "markdown",
   "id": "ebafebb1-d079-444d-9b00-b5c4be0fccd4",
   "metadata": {},
   "source": [
    "# 10.4.3 Class Time Definition Design Notes"
   ]
  },
  {
   "cell_type": "markdown",
   "id": "8deae672-d457-4e91-ad0d-c5c47a5d1146",
   "metadata": {},
   "source": [
    "<b> Attributes Are Always Accessible</b>"
   ]
  },
  {
   "cell_type": "code",
   "execution_count": 51,
   "id": "1fe2e518-174d-41dc-a1b3-ca6dcf5dfc0d",
   "metadata": {},
   "outputs": [],
   "source": [
    "from timewithproperties import Time"
   ]
  },
  {
   "cell_type": "code",
   "execution_count": 52,
   "id": "d0c780ec-03e6-4555-a209-c8d6eaaf2fa4",
   "metadata": {},
   "outputs": [],
   "source": [
    "wake_up = Time(hour=7, minute=45, second=30)"
   ]
  },
  {
   "cell_type": "code",
   "execution_count": 53,
   "id": "8abb877b-c074-418b-a497-61d55937839b",
   "metadata": {},
   "outputs": [
    {
     "data": {
      "text/plain": [
       "7"
      ]
     },
     "execution_count": 53,
     "metadata": {},
     "output_type": "execute_result"
    }
   ],
   "source": [
    "wake_up.hour"
   ]
  },
  {
   "cell_type": "code",
   "execution_count": 54,
   "id": "bb633cf0-a21f-4d39-a400-0accd7fe4262",
   "metadata": {},
   "outputs": [],
   "source": [
    "wake_up._hour = 100"
   ]
  },
  {
   "cell_type": "code",
   "execution_count": 55,
   "id": "f730add9-9d5f-4584-9a0b-9aa8ee457ef5",
   "metadata": {},
   "outputs": [
    {
     "data": {
      "text/plain": [
       "Time (hour = 100, minute = 45, second = 30)"
      ]
     },
     "execution_count": 55,
     "metadata": {},
     "output_type": "execute_result"
    }
   ],
   "source": [
    "wake_up"
   ]
  },
  {
   "cell_type": "markdown",
   "id": "09aba9a7-6e4e-4de6-89eb-02996fe7ab11",
   "metadata": {},
   "source": [
    "# 10.5 Simulating \"Private\" Attributes"
   ]
  },
  {
   "cell_type": "markdown",
   "id": "d4943d69-0a08-41c0-8285-bbbd4c4271f9",
   "metadata": {},
   "source": [
    "<b>Demonstrating \"Private\" Attributes</b>"
   ]
  },
  {
   "cell_type": "code",
   "execution_count": 56,
   "id": "66da7a4d-d6ad-4788-a604-0c565c76136b",
   "metadata": {},
   "outputs": [],
   "source": [
    "from private import PrivateClass"
   ]
  },
  {
   "cell_type": "code",
   "execution_count": 57,
   "id": "994f43bb-081a-428c-903c-62b257765218",
   "metadata": {},
   "outputs": [],
   "source": [
    "my_object = PrivateClass()"
   ]
  },
  {
   "cell_type": "code",
   "execution_count": 58,
   "id": "ff406338-2b12-40d1-92fe-d73678f13261",
   "metadata": {},
   "outputs": [
    {
     "data": {
      "text/plain": [
       "'public'"
      ]
     },
     "execution_count": 58,
     "metadata": {},
     "output_type": "execute_result"
    }
   ],
   "source": [
    "my_object.public_data"
   ]
  },
  {
   "cell_type": "code",
   "execution_count": 59,
   "id": "a23df3ed-d425-4524-b92b-e538309e3e52",
   "metadata": {},
   "outputs": [
    {
     "ename": "AttributeError",
     "evalue": "'PrivateClass' object has no attribute '__private_data'",
     "output_type": "error",
     "traceback": [
      "\u001b[1;31m---------------------------------------------------------------------------\u001b[0m",
      "\u001b[1;31mAttributeError\u001b[0m                            Traceback (most recent call last)",
      "Input \u001b[1;32mIn [59]\u001b[0m, in \u001b[0;36m<cell line: 1>\u001b[1;34m()\u001b[0m\n\u001b[1;32m----> 1\u001b[0m \u001b[43mmy_object\u001b[49m\u001b[38;5;241;43m.\u001b[39;49m\u001b[43m__private_data\u001b[49m\n",
      "\u001b[1;31mAttributeError\u001b[0m: 'PrivateClass' object has no attribute '__private_data'"
     ]
    }
   ],
   "source": [
    "my_object.__private_data    ## we get an AttributeError"
   ]
  },
  {
   "cell_type": "markdown",
   "id": "45cfbd4d-9685-48c5-8822-1daf4993f832",
   "metadata": {},
   "source": [
    "<b> Self Check</b>"
   ]
  },
  {
   "cell_type": "code",
   "execution_count": 60,
   "id": "a6bd5dc6-b684-468a-8633-587e74e5b558",
   "metadata": {},
   "outputs": [
    {
     "data": {
      "text/plain": [
       "'private'"
      ]
     },
     "execution_count": 60,
     "metadata": {},
     "output_type": "execute_result"
    }
   ],
   "source": [
    "my_object._PrivateClass__private_data"
   ]
  },
  {
   "cell_type": "code",
   "execution_count": 61,
   "id": "66aa8310-999e-43ae-a7c9-faeb9182bc2e",
   "metadata": {},
   "outputs": [],
   "source": [
    "my_object._PrivateClass__private_data = 'modified'"
   ]
  },
  {
   "cell_type": "code",
   "execution_count": 62,
   "id": "193c6886-bec0-45ab-9a8b-89198fbcb3d0",
   "metadata": {},
   "outputs": [
    {
     "data": {
      "text/plain": [
       "'modified'"
      ]
     },
     "execution_count": 62,
     "metadata": {},
     "output_type": "execute_result"
    }
   ],
   "source": [
    "my_object._PrivateClass__private_data"
   ]
  },
  {
   "cell_type": "markdown",
   "id": "dcb62877-db4a-4611-b7d3-814e7b65c8da",
   "metadata": {},
   "source": [
    "# 10.6 Case Study: Card Shuffling and Dealing Simulation\n",
    "# 10.6.1 Test-Driving Classes Card and DeckOfCards\n",
    "<b> Creating, Shuffling and Dealing the Cards</b>"
   ]
  },
  {
   "cell_type": "code",
   "execution_count": 63,
   "id": "939a4d6d-c002-40c0-ab96-faa89ec1098d",
   "metadata": {},
   "outputs": [],
   "source": [
    "from deck import DeckOfCards"
   ]
  },
  {
   "cell_type": "code",
   "execution_count": 64,
   "id": "4c56a4b0-20dc-4acf-9bfe-e151595b3d98",
   "metadata": {},
   "outputs": [],
   "source": [
    "deck_of_cards = DeckOfCards()"
   ]
  },
  {
   "cell_type": "code",
   "execution_count": 65,
   "id": "5fb4d5e0-9798-44ec-a790-ce87d6a8edca",
   "metadata": {},
   "outputs": [
    {
     "name": "stdout",
     "output_type": "stream",
     "text": [
      " Ace of Hearts      2 of Hearts        3 of Hearts        4 of Hearts        \n",
      "5 of Hearts        6 of Hearts        7 of Hearts        8 of Hearts        \n",
      "9 of Hearts        10 of Hearts       Jack of Hearts     Queen of Hearts    \n",
      "King of Hearts     Ace of Diamonds    2 of Diamonds      3 of Diamonds      \n",
      "4 of Diamonds      5 of Diamonds      6 of Diamonds      7 of Diamonds      \n",
      "8 of Diamonds      9 of Diamonds      10 of Diamonds     Jack of Diamonds   \n",
      "Queen of Diamonds  King of Diamonds   Ace of Clubs       2 of Clubs         \n",
      "3 of Clubs         4 of Clubs         5 of Clubs         6 of Clubs         \n",
      "7 of Clubs         8 of Clubs         9 of Clubs         10 of Clubs        \n",
      "Jack of Clubs      Queen of Clubs     King of Clubs      Ace of Spades      \n",
      "2 of Spades        3 of Spades        4 of Spades        5 of Spades        \n",
      "6 of Spades        7 of Spades        8 of Spades        9 of Spades        \n",
      "10 of Spades       Jack of Spades     Queen of Spades    King of Spades     \n",
      "\n"
     ]
    }
   ],
   "source": [
    "print(deck_of_cards)"
   ]
  },
  {
   "cell_type": "code",
   "execution_count": 66,
   "id": "dd71122c-5fd3-49fa-ad92-83d661cf0ed4",
   "metadata": {},
   "outputs": [],
   "source": [
    "deck_of_cards.shuffle()"
   ]
  },
  {
   "cell_type": "code",
   "execution_count": 67,
   "id": "cd284c09-58ba-4986-889b-6bf9feb5b00d",
   "metadata": {},
   "outputs": [
    {
     "name": "stdout",
     "output_type": "stream",
     "text": [
      " Queen of Spades    10 of Clubs        King of Spades     Queen of Hearts    \n",
      "Ace of Hearts      8 of Clubs         2 of Hearts        King of Diamonds   \n",
      "4 of Diamonds      5 of Diamonds      10 of Diamonds     6 of Diamonds      \n",
      "6 of Spades        King of Clubs      4 of Spades        8 of Hearts        \n",
      "King of Hearts     8 of Diamonds      3 of Diamonds      7 of Hearts        \n",
      "Jack of Hearts     9 of Diamonds      2 of Clubs         3 of Clubs         \n",
      "4 of Hearts        3 of Spades        4 of Clubs         9 of Clubs         \n",
      "6 of Clubs         9 of Spades        Ace of Diamonds    7 of Spades        \n",
      "Ace of Spades      Queen of Diamonds  Jack of Spades     6 of Hearts        \n",
      "Jack of Diamonds   9 of Hearts        2 of Spades        8 of Spades        \n",
      "5 of Hearts        Queen of Clubs     3 of Hearts        7 of Clubs         \n",
      "10 of Hearts       Ace of Clubs       5 of Clubs         Jack of Clubs      \n",
      "10 of Spades       7 of Diamonds      5 of Spades        2 of Diamonds      \n",
      "\n"
     ]
    }
   ],
   "source": [
    "print(deck_of_cards)"
   ]
  },
  {
   "cell_type": "markdown",
   "id": "14437e2f-b944-4027-9c77-53d13897efcf",
   "metadata": {},
   "source": [
    "<b> Dealing Cards</b>"
   ]
  },
  {
   "cell_type": "code",
   "execution_count": 68,
   "id": "86806da9-ac60-497e-9228-a377d9d08459",
   "metadata": {},
   "outputs": [
    {
     "data": {
      "text/plain": [
       "Card(face='Queen', suit='Spades')"
      ]
     },
     "execution_count": 68,
     "metadata": {},
     "output_type": "execute_result"
    }
   ],
   "source": [
    "deck_of_cards.deal_card()"
   ]
  },
  {
   "cell_type": "markdown",
   "id": "933ad437-1b5a-4c9a-ae5a-a3333bea4c24",
   "metadata": {},
   "source": [
    "<b> Class Card's Other Features</b>"
   ]
  },
  {
   "cell_type": "code",
   "execution_count": 69,
   "id": "8c4e27be-da4e-4f89-aa25-7429555db7a6",
   "metadata": {},
   "outputs": [],
   "source": [
    "card = deck_of_cards.deal_card()"
   ]
  },
  {
   "cell_type": "code",
   "execution_count": 70,
   "id": "d777d85f-54a6-4498-b482-6a98e4e5c06d",
   "metadata": {},
   "outputs": [
    {
     "data": {
      "text/plain": [
       "'10 of Clubs'"
      ]
     },
     "execution_count": 70,
     "metadata": {},
     "output_type": "execute_result"
    }
   ],
   "source": [
    "str(card)"
   ]
  },
  {
   "cell_type": "code",
   "execution_count": 71,
   "id": "8740ea9a-2389-418d-a899-bac6f1f95af6",
   "metadata": {},
   "outputs": [
    {
     "data": {
      "text/plain": [
       "'10_of_Clubs.png'"
      ]
     },
     "execution_count": 71,
     "metadata": {},
     "output_type": "execute_result"
    }
   ],
   "source": [
    "card.image_name"
   ]
  },
  {
   "cell_type": "markdown",
   "id": "0a3b15a4-61ef-4444-89de-b50bc75bce1e",
   "metadata": {},
   "source": [
    "# 10.6.4 Displaying Card Images with Matplotlib"
   ]
  },
  {
   "cell_type": "code",
   "execution_count": 72,
   "id": "4377423e-8966-4eb1-abcf-5cec8388775c",
   "metadata": {},
   "outputs": [
    {
     "name": "stdout",
     "output_type": "stream",
     "text": [
      "C:\\Users\\naiem\\Downloads\\SourceCode (1)\\examples\\ch10\n"
     ]
    }
   ],
   "source": [
    "cd \"C:\\Users\\naiem\\Downloads\\SourceCode (1)\\examples\\ch10\""
   ]
  },
  {
   "cell_type": "code",
   "execution_count": 73,
   "id": "b39578a0-9941-4dcf-bf84-847c2abb90c2",
   "metadata": {},
   "outputs": [],
   "source": [
    "from deck import DeckOfCards"
   ]
  },
  {
   "cell_type": "code",
   "execution_count": 74,
   "id": "e081f388-c7e7-43c6-9a0a-b5e9f4b77bad",
   "metadata": {},
   "outputs": [],
   "source": [
    "deck_of_cards = DeckOfCards()"
   ]
  },
  {
   "cell_type": "markdown",
   "id": "fc29243a-ca20-407d-aa06-c993cd55d203",
   "metadata": {},
   "source": [
    "<b>Enable Matplotlib in IPython</b>"
   ]
  },
  {
   "cell_type": "code",
   "execution_count": 75,
   "id": "55963cd2-ee6f-4350-ba5b-8a53a44d0445",
   "metadata": {},
   "outputs": [],
   "source": [
    "%matplotlib inline"
   ]
  },
  {
   "cell_type": "markdown",
   "id": "c41c9da4-b936-45eb-b51f-f60c2ea233e0",
   "metadata": {},
   "source": [
    "<b>Create the Base Path for Each Image</b>"
   ]
  },
  {
   "cell_type": "code",
   "execution_count": 76,
   "id": "8e6c7bfa-83b3-4298-8885-2ec6d71b0d32",
   "metadata": {},
   "outputs": [],
   "source": [
    "from pathlib import Path"
   ]
  },
  {
   "cell_type": "code",
   "execution_count": 77,
   "id": "1e39880f-ce46-4a29-80ae-827080224f5b",
   "metadata": {},
   "outputs": [],
   "source": [
    "path = Path('.').joinpath('card_images')"
   ]
  },
  {
   "cell_type": "markdown",
   "id": "c67adf04-0ad3-4f36-8eb0-ecfd4a50ae1d",
   "metadata": {},
   "source": [
    "<b> Import the Matplotlib Features</b>"
   ]
  },
  {
   "cell_type": "code",
   "execution_count": 78,
   "id": "5a34deb4-a095-41a4-9b96-f71a5908e5d2",
   "metadata": {},
   "outputs": [],
   "source": [
    "import matplotlib.pyplot as plt"
   ]
  },
  {
   "cell_type": "code",
   "execution_count": 79,
   "id": "bf3287b6-035f-4c2b-bbec-a10296cbac92",
   "metadata": {},
   "outputs": [],
   "source": [
    "import matplotlib.image as mpimg"
   ]
  },
  {
   "cell_type": "markdown",
   "id": "39c57420-90f6-4338-9f4b-8baf82bdc1f5",
   "metadata": {},
   "source": [
    "<b> Create the Figure and Axes Objects</b>"
   ]
  },
  {
   "cell_type": "code",
   "execution_count": 80,
   "id": "84e103ad-8aff-4b92-99b9-482265953b0e",
   "metadata": {},
   "outputs": [
    {
     "data": {
      "image/png": "[encoded data removed]",
      "text/plain": [
       "<Figure size 640x480 with 52 Axes>"
      ]
     },
     "metadata": {},
     "output_type": "display_data"
    }
   ],
   "source": [
    "figure, axes_list = plt.subplots(nrows=4, ncols=13)"
   ]
  },
  {
   "cell_type": "markdown",
   "id": "6f597b5e-48b3-450d-b47a-49fc66425489",
   "metadata": {},
   "source": [
    "<b> Configure the Axes Objects and Display the Images</b>"
   ]
  },
  {
   "cell_type": "code",
   "execution_count": 81,
   "id": "316d0b1f-6921-40a6-9d70-f2b8ad6cc123",
   "metadata": {},
   "outputs": [],
   "source": [
    "for axes in axes_list.ravel():\n",
    "    axes.get_xaxis().set_visible(False)\n",
    "    axes.get_yaxis().set_visible(False)\n",
    "    image_name = deck_of_cards.deal_card().image_name\n",
    "    img = mpimg.imread(str(path.joinpath(image_name).resolve()))\n",
    "    axes.imshow(img)\n",
    "    "
   ]
  },
  {
   "cell_type": "markdown",
   "id": "96094ea2-ed47-4141-8ed1-78485ba41930",
   "metadata": {},
   "source": [
    "<b> Maximize the Image Sizes</b>"
   ]
  },
  {
   "cell_type": "code",
   "execution_count": 82,
   "id": "3a5cb572-6fb3-4c8c-8cf5-b7da5df5a48d",
   "metadata": {},
   "outputs": [],
   "source": [
    "figure.tight_layout() "
   ]
  },
  {
   "cell_type": "markdown",
   "id": "e579540d-fbb0-4c22-b9e8-f29ca7e5a1ba",
   "metadata": {},
   "source": [
    "<b> Shuffle and Re-Deal the Deck</b>"
   ]
  },
  {
   "cell_type": "code",
   "execution_count": 83,
   "id": "1b8840b7-f1ea-4c7b-bbbb-412b302fa047",
   "metadata": {},
   "outputs": [],
   "source": [
    "deck_of_cards.shuffle()"
   ]
  },
  {
   "cell_type": "code",
   "execution_count": 84,
   "id": "61b7bcba-bde7-4a81-b793-ed45d153304c",
   "metadata": {},
   "outputs": [],
   "source": [
    "for axes in axes_list.ravel():\n",
    "    axes.get_xaxis().set_visible(False)\n",
    "    axes.get_yaxis().set_visible(False)\n",
    "    image_name = deck_of_cards.deal_card().image_name\n",
    "    img = mpimg.imread(str(path.joinpath(image_name).resolve()))\n",
    "    axes.imshow(img)\n",
    "    "
   ]
  },
  {
   "cell_type": "markdown",
   "id": "fa2377b8-cbd7-45af-9a3e-037e9869f516",
   "metadata": {},
   "source": [
    "<b> Self Check</b>"
   ]
  },
  {
   "cell_type": "code",
   "execution_count": 85,
   "id": "6d3323aa-4a39-44c6-9a64-ccb7129f800a",
   "metadata": {},
   "outputs": [],
   "source": [
    "deck_of_cards.shuffle()"
   ]
  },
  {
   "cell_type": "code",
   "execution_count": 86,
   "id": "bd57e83d-501d-45b1-980a-c8d158e4c151",
   "metadata": {},
   "outputs": [
    {
     "data": {
      "image/png": "[encoded data removed]",
      "text/plain": [
       "<Figure size 640x480 with 10 Axes>"
      ]
     },
     "metadata": {},
     "output_type": "display_data"
    }
   ],
   "source": [
    "figure, axes_list = plt.subplots(nrows=2, ncols=5)"
   ]
  },
  {
   "cell_type": "code",
   "execution_count": 87,
   "id": "10982620-5deb-4609-ab26-227277755854",
   "metadata": {},
   "outputs": [],
   "source": [
    "for axes in axes_list.ravel():\n",
    "    axes.get_xaxis().set_visible(False)\n",
    "    axes.get_yaxis().set_visible(False)\n",
    "    image_name = deck_of_cards.deal_card().image_name\n",
    "    img = mpimg.imread(str(path.joinpath(image_name).resolve()))\n",
    "    axes.imshow(img)"
   ]
  },
  {
   "cell_type": "code",
   "execution_count": 88,
   "id": "58c3443d-b13b-4b6b-a7f1-c66b5df88efe",
   "metadata": {},
   "outputs": [],
   "source": [
    "figure.tight_layout()"
   ]
  },
  {
   "cell_type": "markdown",
   "id": "a0ec1a4d-fd7c-4f79-b949-188eac31b100",
   "metadata": {},
   "source": [
    "# 10.8 Building an Inheritance Hierarchy; Introducing Polymorphism"
   ]
  },
  {
   "cell_type": "markdown",
   "id": "8402ce4a-5d6e-4f6d-845c-11be7467e84e",
   "metadata": {},
   "source": [
    "# 10.8.1 Base Class CommissionEmployee\n",
    "<b>Testing Class CommissionEmployee </b>"
   ]
  },
  {
   "cell_type": "code",
   "execution_count": 89,
   "id": "78bf9438-2cfb-4620-a15e-c53294fcd6b7",
   "metadata": {},
   "outputs": [],
   "source": [
    "from commissionemployee import CommissionEmployee"
   ]
  },
  {
   "cell_type": "code",
   "execution_count": 90,
   "id": "dceb4cfe-74cf-4df4-afe1-98412e9324c6",
   "metadata": {},
   "outputs": [],
   "source": [
    "from decimal import Decimal"
   ]
  },
  {
   "cell_type": "code",
   "execution_count": 91,
   "id": "0a9eab78-b86a-43dc-9f01-221cdaf0f3ae",
   "metadata": {},
   "outputs": [],
   "source": [
    "c = CommissionEmployee('Sue', 'Jones', '333-33-3333', \n",
    "                       Decimal('10000.00'), Decimal('0.06'))"
   ]
  },
  {
   "cell_type": "code",
   "execution_count": 92,
   "id": "53bdea5f-887a-4c19-a453-b660fdefe2ef",
   "metadata": {},
   "outputs": [
    {
     "data": {
      "text/plain": [
       "CommissionEmployee: Sue Jones\n",
       "social security number: 333-33-3333\n",
       "gross sales: 10000.00\n",
       "commission rate: 0.06"
      ]
     },
     "execution_count": 92,
     "metadata": {},
     "output_type": "execute_result"
    }
   ],
   "source": [
    "c"
   ]
  },
  {
   "cell_type": "code",
   "execution_count": 93,
   "id": "05565030-d05f-49e9-b601-6cf382284231",
   "metadata": {},
   "outputs": [
    {
     "name": "stdout",
     "output_type": "stream",
     "text": [
      "600.00\n"
     ]
    }
   ],
   "source": [
    "print(f'{c.earnings():,.2f}')"
   ]
  },
  {
   "cell_type": "code",
   "execution_count": 94,
   "id": "419a20c5-bf23-476a-8dfd-0a8e8010f1c0",
   "metadata": {},
   "outputs": [],
   "source": [
    "c.gross_sales = Decimal('20000.00')"
   ]
  },
  {
   "cell_type": "code",
   "execution_count": 95,
   "id": "4e69dee5-7e0f-437c-9257-0aecf16028a3",
   "metadata": {},
   "outputs": [],
   "source": [
    "c.commission_rate = Decimal('0.1')"
   ]
  },
  {
   "cell_type": "code",
   "execution_count": 96,
   "id": "116aacb3-8dcb-4042-b88c-aa698c6bf28e",
   "metadata": {},
   "outputs": [
    {
     "name": "stdout",
     "output_type": "stream",
     "text": [
      "2,000.00\n"
     ]
    }
   ],
   "source": [
    "print(f'{c.earnings():,.2f}')"
   ]
  },
  {
   "cell_type": "markdown",
   "id": "e221c9e4-41bb-4ab5-b684-57c3e736840a",
   "metadata": {},
   "source": [
    "# 10.8.2 Subclass SalariedCommissionEmployee\n",
    "<b>Testing Class SalariedCommissionEmployee"
   ]
  },
  {
   "cell_type": "code",
   "execution_count": 97,
   "id": "f4ff121d-ca9e-43fb-bbbb-c1f599048853",
   "metadata": {},
   "outputs": [],
   "source": [
    "from salariedcommissionemployee import SalariedCommissionEmployee"
   ]
  },
  {
   "cell_type": "code",
   "execution_count": 98,
   "id": "d950d6f3-c77f-4215-b697-5db4caf7d40a",
   "metadata": {},
   "outputs": [],
   "source": [
    "s = SalariedCommissionEmployee('Bob', 'Lewis', '444-44-4444',\n",
    "                               Decimal('5000.00'), Decimal('0.04'), Decimal('300.00'))"
   ]
  },
  {
   "cell_type": "code",
   "execution_count": 99,
   "id": "b3c9aa78-5e91-4149-b923-62d5134ef471",
   "metadata": {},
   "outputs": [
    {
     "name": "stdout",
     "output_type": "stream",
     "text": [
      "Bob Lewis 444-44-4444 5000.00 0.04 300.00\n"
     ]
    }
   ],
   "source": [
    "print(s.first_name, s.last_name, s.ssn, s.gross_sales, s.commission_rate, s.base_salary)"
   ]
  },
  {
   "cell_type": "code",
   "execution_count": 100,
   "id": "3eea7cab-448a-41d8-960c-76a3ae9549ff",
   "metadata": {},
   "outputs": [
    {
     "name": "stdout",
     "output_type": "stream",
     "text": [
      "500.00\n"
     ]
    }
   ],
   "source": [
    "print(f'{s.earnings():,.2f}')"
   ]
  },
  {
   "cell_type": "code",
   "execution_count": 101,
   "id": "eb2d0911-c3ec-454c-afc4-3d4dacae37ea",
   "metadata": {},
   "outputs": [],
   "source": [
    "s.gross_sales = Decimal('10000.00')"
   ]
  },
  {
   "cell_type": "code",
   "execution_count": 102,
   "id": "40c362a1-8e06-4e24-96a6-d2c98463914f",
   "metadata": {},
   "outputs": [],
   "source": [
    "s.commission_rate = Decimal('0.05')"
   ]
  },
  {
   "cell_type": "code",
   "execution_count": 103,
   "id": "248a23ad-3359-4ccf-9ea3-a591698c6bec",
   "metadata": {},
   "outputs": [],
   "source": [
    "s.base_salary = Decimal('1000.00')"
   ]
  },
  {
   "cell_type": "code",
   "execution_count": 104,
   "id": "08f905f1-383b-446b-ac07-1e2f497572d7",
   "metadata": {},
   "outputs": [
    {
     "name": "stdout",
     "output_type": "stream",
     "text": [
      "SalariedCommissionEmployee: Bob Lewis\n",
      "social security number: 444-44-4444\n",
      "gross sales: 10000.00\n",
      "commission rate: 0.05\n",
      "base salary: 1000.00\n"
     ]
    }
   ],
   "source": [
    "print(s)"
   ]
  },
  {
   "cell_type": "code",
   "execution_count": 105,
   "id": "0c8e7839-8ee6-42fe-921e-ecb5bd66b383",
   "metadata": {},
   "outputs": [
    {
     "name": "stdout",
     "output_type": "stream",
     "text": [
      "1,500.00\n"
     ]
    }
   ],
   "source": [
    "print(f'{s.earnings():,.2f}')"
   ]
  },
  {
   "cell_type": "markdown",
   "id": "07f2aed4-83f8-4b7d-ba14-f6643d90cd30",
   "metadata": {},
   "source": [
    "<b> Testing the \"is a\" Relationship"
   ]
  },
  {
   "cell_type": "code",
   "execution_count": 106,
   "id": "4b79b34d-dad3-4fee-8790-44974abff053",
   "metadata": {},
   "outputs": [
    {
     "data": {
      "text/plain": [
       "True"
      ]
     },
     "execution_count": 106,
     "metadata": {},
     "output_type": "execute_result"
    }
   ],
   "source": [
    "issubclass(SalariedCommissionEmployee, CommissionEmployee)"
   ]
  },
  {
   "cell_type": "code",
   "execution_count": 107,
   "id": "9408a08f-1b1e-4080-adea-8b53aabea858",
   "metadata": {},
   "outputs": [
    {
     "data": {
      "text/plain": [
       "True"
      ]
     },
     "execution_count": 107,
     "metadata": {},
     "output_type": "execute_result"
    }
   ],
   "source": [
    "isinstance(s, CommissionEmployee)"
   ]
  },
  {
   "cell_type": "code",
   "execution_count": 108,
   "id": "7a598707-99a6-4d7c-ab51-dce484850a19",
   "metadata": {},
   "outputs": [
    {
     "data": {
      "text/plain": [
       "True"
      ]
     },
     "execution_count": 108,
     "metadata": {},
     "output_type": "execute_result"
    }
   ],
   "source": [
    "isinstance(s, SalariedCommissionEmployee)"
   ]
  },
  {
   "cell_type": "markdown",
   "id": "8a20094a-f176-4597-8885-ee9a9ba31431",
   "metadata": {},
   "source": [
    "# 1.8.3 Processing CommissionEmployees and SalariedCommissionEmployees Polymorphically"
   ]
  },
  {
   "cell_type": "code",
   "execution_count": 109,
   "id": "5e68ec35-7d46-42b5-b0f5-d38002c9a598",
   "metadata": {},
   "outputs": [],
   "source": [
    "employees = [c, s]"
   ]
  },
  {
   "cell_type": "code",
   "execution_count": 110,
   "id": "80ac6076-b504-47d7-b1c5-88ac16e82446",
   "metadata": {},
   "outputs": [
    {
     "name": "stdout",
     "output_type": "stream",
     "text": [
      "CommissionEmployee: Sue Jones\n",
      "social security number: 333-33-3333\n",
      "gross sales: 20000.00\n",
      "commission rate: 0.10\n",
      "2,000.00\n",
      "\n",
      "SalariedCommissionEmployee: Bob Lewis\n",
      "social security number: 444-44-4444\n",
      "gross sales: 10000.00\n",
      "commission rate: 0.05\n",
      "base salary: 1000.00\n",
      "1,500.00\n",
      "\n"
     ]
    }
   ],
   "source": [
    "for employee in employees:\n",
    "    print(employee)\n",
    "    print(f'{employee.earnings():,.2f}\\n')"
   ]
  },
  {
   "cell_type": "markdown",
   "id": "97ccc2d2-f076-4208-90eb-ba3d479ab096",
   "metadata": {},
   "source": [
    "# 10.9 Duck Typing and Polymorphism"
   ]
  },
  {
   "cell_type": "code",
   "execution_count": 111,
   "id": "f258d779-a582-476c-a1db-2278da285047",
   "metadata": {},
   "outputs": [],
   "source": [
    "class WellPaidDuck:\n",
    "    def _repr_(self):\n",
    "        return 'I am a well-paid duck'\n",
    "    def earnings(self):\n",
    "        return Decimal('1_000_000.00')"
   ]
  },
  {
   "cell_type": "code",
   "execution_count": 112,
   "id": "58ffc24b-c409-4e48-86ab-1c3259f067d7",
   "metadata": {},
   "outputs": [],
   "source": [
    "from decimal import Decimal"
   ]
  },
  {
   "cell_type": "code",
   "execution_count": 113,
   "id": "254040bd-5386-4943-b56e-4e966bc253e0",
   "metadata": {},
   "outputs": [],
   "source": [
    "from commissionemployee import CommissionEmployee"
   ]
  },
  {
   "cell_type": "code",
   "execution_count": 114,
   "id": "62754c6d-f238-49a0-b035-fe89109feb26",
   "metadata": {},
   "outputs": [],
   "source": [
    "from salariedcommissionemployee import SalariedCommissionEmployee"
   ]
  },
  {
   "cell_type": "code",
   "execution_count": 115,
   "id": "68872c77-63d3-484b-b0f3-656b5e69100c",
   "metadata": {},
   "outputs": [],
   "source": [
    "c = CommissionEmployee('Sue', 'Jones', '333-33-3333',\n",
    "                       Decimal('10000.00'), Decimal('0.06'))"
   ]
  },
  {
   "cell_type": "code",
   "execution_count": 116,
   "id": "09122d4d-8b17-44ee-82d6-27beb9955a03",
   "metadata": {},
   "outputs": [],
   "source": [
    "s = SalariedCommissionEmployee('Bob', 'Lewis', '444-44-4444',\n",
    "                               Decimal('5000.00'), Decimal('0.04'), Decimal('300.00'))"
   ]
  },
  {
   "cell_type": "code",
   "execution_count": 117,
   "id": "97b3868e-e50e-4af2-ab22-4be5a5aea31d",
   "metadata": {},
   "outputs": [],
   "source": [
    "d = WellPaidDuck()"
   ]
  },
  {
   "cell_type": "code",
   "execution_count": 118,
   "id": "c7d9ad1b-808f-425b-861e-255a336054fe",
   "metadata": {},
   "outputs": [],
   "source": [
    "employees = [c, s, d]"
   ]
  },
  {
   "cell_type": "code",
   "execution_count": 119,
   "id": "87066157-135a-40b7-8b4c-b1d664f2cb4c",
   "metadata": {},
   "outputs": [
    {
     "name": "stdout",
     "output_type": "stream",
     "text": [
      "CommissionEmployee: Sue Jones\n",
      "social security number: 333-33-3333\n",
      "gross sales: 10000.00\n",
      "commission rate: 0.06\n",
      "600.00\n",
      "\n",
      "SalariedCommissionEmployee: Bob Lewis\n",
      "social security number: 444-44-4444\n",
      "gross sales: 5000.00\n",
      "commission rate: 0.04\n",
      "base salary: 300.00\n",
      "500.00\n",
      "\n",
      "<__main__.WellPaidDuck object at 0x00000254823820A0>\n",
      "1,000,000.00\n",
      "\n"
     ]
    }
   ],
   "source": [
    "for employee in employees:\n",
    "    print(employee)\n",
    "    print(f'{employee.earnings():,.2f}\\n')\n",
    "    "
   ]
  },
  {
   "cell_type": "markdown",
   "id": "097ed34f-8fec-4073-bca6-d8a71829a60d",
   "metadata": {},
   "source": [
    "# 10.10 Operator Overloading\n",
    "# 10.10.1 Test-Driving Class Complex"
   ]
  },
  {
   "cell_type": "code",
   "execution_count": 120,
   "id": "f00cb7b3-7678-456d-89f3-ed441af342ca",
   "metadata": {},
   "outputs": [],
   "source": [
    "from complexnumber import Complex"
   ]
  },
  {
   "cell_type": "code",
   "execution_count": 121,
   "id": "2aa6c007-8937-4029-9599-389e3c3ddb3a",
   "metadata": {},
   "outputs": [],
   "source": [
    "x = Complex(real=2, imaginary=4)"
   ]
  },
  {
   "cell_type": "code",
   "execution_count": 122,
   "id": "bcb0b3da-7f98-4565-9368-9288c059dd87",
   "metadata": {},
   "outputs": [
    {
     "data": {
      "text/plain": [
       "(2+ 4i)"
      ]
     },
     "execution_count": 122,
     "metadata": {},
     "output_type": "execute_result"
    }
   ],
   "source": [
    "x"
   ]
  },
  {
   "cell_type": "code",
   "execution_count": 123,
   "id": "82648a07-bf6b-43c9-9571-892815035288",
   "metadata": {},
   "outputs": [],
   "source": [
    "y = Complex(real=5, imaginary=-1)"
   ]
  },
  {
   "cell_type": "code",
   "execution_count": 124,
   "id": "235dcca7-b3ca-4de9-8590-c31153752b14",
   "metadata": {},
   "outputs": [
    {
     "data": {
      "text/plain": [
       "(5- 1i)"
      ]
     },
     "execution_count": 124,
     "metadata": {},
     "output_type": "execute_result"
    }
   ],
   "source": [
    "y"
   ]
  },
  {
   "cell_type": "code",
   "execution_count": 125,
   "id": "4a465d57-3955-4df1-8d2a-ebeda3be049d",
   "metadata": {},
   "outputs": [
    {
     "data": {
      "text/plain": [
       "(7+ 3i)"
      ]
     },
     "execution_count": 125,
     "metadata": {},
     "output_type": "execute_result"
    }
   ],
   "source": [
    "x+y"
   ]
  },
  {
   "cell_type": "code",
   "execution_count": 126,
   "id": "0e4e440f-295c-472c-a97c-6d64710b5ae8",
   "metadata": {},
   "outputs": [
    {
     "data": {
      "text/plain": [
       "(2+ 4i)"
      ]
     },
     "execution_count": 126,
     "metadata": {},
     "output_type": "execute_result"
    }
   ],
   "source": [
    "x"
   ]
  },
  {
   "cell_type": "code",
   "execution_count": 127,
   "id": "9cd2853c-d2b8-4bf2-a72d-e794f2d0b0a3",
   "metadata": {},
   "outputs": [
    {
     "data": {
      "text/plain": [
       "(5- 1i)"
      ]
     },
     "execution_count": 127,
     "metadata": {},
     "output_type": "execute_result"
    }
   ],
   "source": [
    "y"
   ]
  },
  {
   "cell_type": "code",
   "execution_count": 128,
   "id": "cc92f846-fc41-474e-beea-d5e365f3ad91",
   "metadata": {},
   "outputs": [],
   "source": [
    "x += y"
   ]
  },
  {
   "cell_type": "code",
   "execution_count": 129,
   "id": "ec9cdfa6-c858-44b3-aade-915399e64ca2",
   "metadata": {},
   "outputs": [
    {
     "data": {
      "text/plain": [
       "(7+ 3i)"
      ]
     },
     "execution_count": 129,
     "metadata": {},
     "output_type": "execute_result"
    }
   ],
   "source": [
    "x"
   ]
  },
  {
   "cell_type": "code",
   "execution_count": 130,
   "id": "d27e6a6d-b55e-403e-9264-c3bff78cc235",
   "metadata": {},
   "outputs": [
    {
     "data": {
      "text/plain": [
       "(5- 1i)"
      ]
     },
     "execution_count": 130,
     "metadata": {},
     "output_type": "execute_result"
    }
   ],
   "source": [
    "y"
   ]
  },
  {
   "cell_type": "markdown",
   "id": "4add2b7f-e489-4304-aa56-5dbedcd3f840",
   "metadata": {},
   "source": [
    "<b> Self Check"
   ]
  },
  {
   "cell_type": "code",
   "execution_count": 131,
   "id": "615fb571-c182-485e-85fb-3e26bd7c1818",
   "metadata": {},
   "outputs": [],
   "source": [
    "from complexnumber2 import Complex"
   ]
  },
  {
   "cell_type": "code",
   "execution_count": 132,
   "id": "81c6b0e8-dc33-4447-abd6-25d0be429ef7",
   "metadata": {},
   "outputs": [],
   "source": [
    "x = Complex(real=2, imaginary=4)"
   ]
  },
  {
   "cell_type": "code",
   "execution_count": 133,
   "id": "b31c1dbf-00f0-4acd-abe5-103c7ae2213f",
   "metadata": {},
   "outputs": [],
   "source": [
    "y = Complex(real=5, imaginary=-1)"
   ]
  },
  {
   "cell_type": "code",
   "execution_count": 134,
   "id": "46d05730-ae52-4f3e-9075-8b64fab90c6d",
   "metadata": {},
   "outputs": [
    {
     "data": {
      "text/plain": [
       "(-3 + 5i)"
      ]
     },
     "execution_count": 134,
     "metadata": {},
     "output_type": "execute_result"
    }
   ],
   "source": [
    "x-y"
   ]
  },
  {
   "cell_type": "code",
   "execution_count": 135,
   "id": "a39d731a-f2e5-4e1d-8d99-5f5c636fd707",
   "metadata": {},
   "outputs": [],
   "source": [
    "x -= y"
   ]
  },
  {
   "cell_type": "code",
   "execution_count": 136,
   "id": "5d53c793-a689-47ff-a841-b262fd24d732",
   "metadata": {},
   "outputs": [
    {
     "data": {
      "text/plain": [
       "(-3 + 5i)"
      ]
     },
     "execution_count": 136,
     "metadata": {},
     "output_type": "execute_result"
    }
   ],
   "source": [
    "x"
   ]
  },
  {
   "cell_type": "code",
   "execution_count": 137,
   "id": "16dc84a8-7c21-492f-b22a-a2550248a0c0",
   "metadata": {},
   "outputs": [
    {
     "data": {
      "text/plain": [
       "(5 - 1i)"
      ]
     },
     "execution_count": 137,
     "metadata": {},
     "output_type": "execute_result"
    }
   ],
   "source": [
    "y"
   ]
  },
  {
   "cell_type": "markdown",
   "id": "ad779096-3885-4445-b781-7bfc5af0bffc",
   "metadata": {},
   "source": [
    "# 10.12 Named Tuples"
   ]
  },
  {
   "cell_type": "code",
   "execution_count": 138,
   "id": "261da0c1-da74-45a6-8688-2970a3cb02c1",
   "metadata": {},
   "outputs": [],
   "source": [
    "from collections import namedtuple"
   ]
  },
  {
   "cell_type": "code",
   "execution_count": 139,
   "id": "201706f9-6ad2-42c6-948a-b0d0e4efe340",
   "metadata": {},
   "outputs": [],
   "source": [
    "Card = namedtuple('Card', ['face', 'suit'])"
   ]
  },
  {
   "cell_type": "code",
   "execution_count": 140,
   "id": "d9a9f9cf-2c12-4b0e-a6e8-99ee6cca2f3a",
   "metadata": {},
   "outputs": [],
   "source": [
    "card = Card(face='Ace', suit='Spades')"
   ]
  },
  {
   "cell_type": "code",
   "execution_count": 141,
   "id": "8fcdd006-9e7b-43f5-89da-ad9e0a9b9832",
   "metadata": {},
   "outputs": [
    {
     "data": {
      "text/plain": [
       "'Ace'"
      ]
     },
     "execution_count": 141,
     "metadata": {},
     "output_type": "execute_result"
    }
   ],
   "source": [
    "card.face"
   ]
  },
  {
   "cell_type": "code",
   "execution_count": 142,
   "id": "67021ddf-6c38-494e-b346-3be7c42728cd",
   "metadata": {},
   "outputs": [
    {
     "data": {
      "text/plain": [
       "'Spades'"
      ]
     },
     "execution_count": 142,
     "metadata": {},
     "output_type": "execute_result"
    }
   ],
   "source": [
    "card.suit"
   ]
  },
  {
   "cell_type": "code",
   "execution_count": 143,
   "id": "a565e8ed-920b-4006-a307-dfb16a037205",
   "metadata": {},
   "outputs": [
    {
     "data": {
      "text/plain": [
       "Card(face='Ace', suit='Spades')"
      ]
     },
     "execution_count": 143,
     "metadata": {},
     "output_type": "execute_result"
    }
   ],
   "source": [
    "card"
   ]
  },
  {
   "cell_type": "markdown",
   "id": "412c1ee4-81ff-4115-8608-0b7f5dc46066",
   "metadata": {},
   "source": [
    "<b> Other Named Tuple Features"
   ]
  },
  {
   "cell_type": "code",
   "execution_count": 144,
   "id": "182ffb69-35a2-4188-b5bb-d03522ccf67b",
   "metadata": {},
   "outputs": [],
   "source": [
    "values = ['Queen', 'Hearts']"
   ]
  },
  {
   "cell_type": "code",
   "execution_count": 145,
   "id": "874da595-806c-4bb0-a61d-305bf95596bf",
   "metadata": {},
   "outputs": [],
   "source": [
    "card = Card._make(values)"
   ]
  },
  {
   "cell_type": "code",
   "execution_count": 146,
   "id": "3f759646-57e1-4663-949b-4e997509e146",
   "metadata": {},
   "outputs": [
    {
     "data": {
      "text/plain": [
       "Card(face='Queen', suit='Hearts')"
      ]
     },
     "execution_count": 146,
     "metadata": {},
     "output_type": "execute_result"
    }
   ],
   "source": [
    "card"
   ]
  },
  {
   "cell_type": "code",
   "execution_count": 147,
   "id": "d0ce7b32-451b-4f98-a3a5-5a323cfc0423",
   "metadata": {},
   "outputs": [
    {
     "data": {
      "text/plain": [
       "{'face': 'Queen', 'suit': 'Hearts'}"
      ]
     },
     "execution_count": 147,
     "metadata": {},
     "output_type": "execute_result"
    }
   ],
   "source": [
    "card._asdict()"
   ]
  },
  {
   "cell_type": "markdown",
   "id": "9e62b29f-2ed0-4c4a-941b-f893f83d4412",
   "metadata": {},
   "source": [
    "<b> Self Check"
   ]
  },
  {
   "cell_type": "code",
   "execution_count": 148,
   "id": "026feaf5-5a1e-480f-9139-7ceb9e13a615",
   "metadata": {},
   "outputs": [],
   "source": [
    "from collections import namedtuple"
   ]
  },
  {
   "cell_type": "code",
   "execution_count": 149,
   "id": "9e929b40-d354-460b-bbb4-b29c560420ec",
   "metadata": {},
   "outputs": [],
   "source": [
    "Time = namedtuple('Time', ['hour', 'minute', 'second'])"
   ]
  },
  {
   "cell_type": "code",
   "execution_count": 150,
   "id": "8d472b61-8893-49eb-8bf2-2a5717c1e694",
   "metadata": {},
   "outputs": [],
   "source": [
    "t = Time(13, 30, 45)"
   ]
  },
  {
   "cell_type": "code",
   "execution_count": 151,
   "id": "da470963-4e26-4d7d-8206-f86b172b7d00",
   "metadata": {},
   "outputs": [
    {
     "name": "stdout",
     "output_type": "stream",
     "text": [
      "13 30 45\n"
     ]
    }
   ],
   "source": [
    "print(t.hour, t.minute, t.second)"
   ]
  },
  {
   "cell_type": "code",
   "execution_count": 152,
   "id": "69f05452-0c71-48b2-a913-071eae2398a0",
   "metadata": {},
   "outputs": [
    {
     "data": {
      "text/plain": [
       "Time(hour=13, minute=30, second=45)"
      ]
     },
     "execution_count": 152,
     "metadata": {},
     "output_type": "execute_result"
    }
   ],
   "source": [
    "t"
   ]
  },
  {
   "cell_type": "markdown",
   "id": "d05afdce-344f-41b0-bb96-00537ae11a4a",
   "metadata": {},
   "source": [
    "# 10.13 A Brief Intro to Python 3.7's New Data Classes\n",
    "# 10.13.2 Using the Card Data Class"
   ]
  },
  {
   "cell_type": "code",
   "execution_count": 153,
   "id": "9e943a08-155e-422b-a0f9-2957f82c9bda",
   "metadata": {},
   "outputs": [],
   "source": [
    "from carddataclass import Card"
   ]
  },
  {
   "cell_type": "code",
   "execution_count": 154,
   "id": "5f32ffa6-039f-480e-a21e-ad20ba441afa",
   "metadata": {},
   "outputs": [],
   "source": [
    "c1 = Card(Card.FACES[0], Card.SUITS[3])"
   ]
  },
  {
   "cell_type": "code",
   "execution_count": 155,
   "id": "8a8afea6-d9fb-4311-a977-5ef33941ed34",
   "metadata": {},
   "outputs": [
    {
     "data": {
      "text/plain": [
       "Card(face='Ace', suit='Spades')"
      ]
     },
     "execution_count": 155,
     "metadata": {},
     "output_type": "execute_result"
    }
   ],
   "source": [
    "c1"
   ]
  },
  {
   "cell_type": "code",
   "execution_count": 156,
   "id": "c3185c0f-1904-429e-90b8-133d5725223b",
   "metadata": {},
   "outputs": [
    {
     "name": "stdout",
     "output_type": "stream",
     "text": [
      "Ace of Spades\n"
     ]
    }
   ],
   "source": [
    "print(c1)"
   ]
  },
  {
   "cell_type": "code",
   "execution_count": 157,
   "id": "0343c0f3-bbf3-47ce-8757-a3591182cea9",
   "metadata": {},
   "outputs": [
    {
     "data": {
      "text/plain": [
       "'Ace'"
      ]
     },
     "execution_count": 157,
     "metadata": {},
     "output_type": "execute_result"
    }
   ],
   "source": [
    "c1.face"
   ]
  },
  {
   "cell_type": "code",
   "execution_count": 158,
   "id": "ea534f0b-63f3-417a-b93f-15cfd42a8b4e",
   "metadata": {},
   "outputs": [
    {
     "data": {
      "text/plain": [
       "'Spades'"
      ]
     },
     "execution_count": 158,
     "metadata": {},
     "output_type": "execute_result"
    }
   ],
   "source": [
    "c1.suit"
   ]
  },
  {
   "cell_type": "code",
   "execution_count": 159,
   "id": "4bca8c5c-2101-45c2-8fc9-a0d06a520943",
   "metadata": {},
   "outputs": [
    {
     "data": {
      "text/plain": [
       "'Ace_of_Spades.png'"
      ]
     },
     "execution_count": 159,
     "metadata": {},
     "output_type": "execute_result"
    }
   ],
   "source": [
    "c1.image_name"
   ]
  },
  {
   "cell_type": "code",
   "execution_count": 160,
   "id": "db1d81ef-0230-4331-b0dc-fe980f5edc35",
   "metadata": {},
   "outputs": [],
   "source": [
    "c2 = Card(Card.FACES[0], Card.SUITS[3])"
   ]
  },
  {
   "cell_type": "code",
   "execution_count": 161,
   "id": "266e005f-16fd-4bf6-a5b7-753856c89e23",
   "metadata": {},
   "outputs": [
    {
     "data": {
      "text/plain": [
       "Card(face='Ace', suit='Spades')"
      ]
     },
     "execution_count": 161,
     "metadata": {},
     "output_type": "execute_result"
    }
   ],
   "source": [
    "c2"
   ]
  },
  {
   "cell_type": "code",
   "execution_count": 162,
   "id": "3d6b5bce-5495-4635-8de0-d2bec361fe87",
   "metadata": {},
   "outputs": [],
   "source": [
    "c3 = Card(Card.FACES[0], Card.SUITS[0])"
   ]
  },
  {
   "cell_type": "code",
   "execution_count": 163,
   "id": "43dff07d-0fc4-49bd-b87b-7e4b0d592e8d",
   "metadata": {},
   "outputs": [
    {
     "data": {
      "text/plain": [
       "Card(face='Ace', suit='Hearts')"
      ]
     },
     "execution_count": 163,
     "metadata": {},
     "output_type": "execute_result"
    }
   ],
   "source": [
    "c3"
   ]
  },
  {
   "cell_type": "code",
   "execution_count": 164,
   "id": "1ce03af8-3ac8-4df4-bcc9-0b16b1c99cbd",
   "metadata": {},
   "outputs": [
    {
     "data": {
      "text/plain": [
       "True"
      ]
     },
     "execution_count": 164,
     "metadata": {},
     "output_type": "execute_result"
    }
   ],
   "source": [
    "c1 == c2"
   ]
  },
  {
   "cell_type": "code",
   "execution_count": 165,
   "id": "2e124b1d-e395-43b7-8c1d-26f1d8d118a6",
   "metadata": {},
   "outputs": [
    {
     "data": {
      "text/plain": [
       "False"
      ]
     },
     "execution_count": 165,
     "metadata": {},
     "output_type": "execute_result"
    }
   ],
   "source": [
    "c1 == c3"
   ]
  },
  {
   "cell_type": "code",
   "execution_count": 166,
   "id": "3242b0e5-e2d0-4132-9b37-89db075f91bc",
   "metadata": {},
   "outputs": [
    {
     "data": {
      "text/plain": [
       "True"
      ]
     },
     "execution_count": 166,
     "metadata": {},
     "output_type": "execute_result"
    }
   ],
   "source": [
    "c1 != c3"
   ]
  },
  {
   "cell_type": "code",
   "execution_count": 167,
   "id": "2d716d85-fd5c-41f4-9745-49c7f6edfae8",
   "metadata": {},
   "outputs": [],
   "source": [
    "from deck2 import DeckOfCards   # Uses Card data class"
   ]
  },
  {
   "cell_type": "code",
   "execution_count": 168,
   "id": "45199eaa-8f3a-4c56-a77e-7a4bfd93e950",
   "metadata": {},
   "outputs": [],
   "source": [
    "deck_of_cards = DeckOfCards()"
   ]
  },
  {
   "cell_type": "code",
   "execution_count": 169,
   "id": "d0b183b7-7c19-4e3c-b90e-75c48045b8ce",
   "metadata": {},
   "outputs": [
    {
     "name": "stdout",
     "output_type": "stream",
     "text": [
      "Ace of Hearts      2 of Hearts        3 of Hearts        4 of Hearts        \n",
      "5 of Hearts        6 of Hearts        7 of Hearts        8 of Hearts        \n",
      "9 of Hearts        10 of Hearts       Jack of Hearts     Queen of Hearts    \n",
      "King of Hearts     Ace of Diamonds    2 of Diamonds      3 of Diamonds      \n",
      "4 of Diamonds      5 of Diamonds      6 of Diamonds      7 of Diamonds      \n",
      "8 of Diamonds      9 of Diamonds      10 of Diamonds     Jack of Diamonds   \n",
      "Queen of Diamonds  King of Diamonds   Ace of Clubs       2 of Clubs         \n",
      "3 of Clubs         4 of Clubs         5 of Clubs         6 of Clubs         \n",
      "7 of Clubs         8 of Clubs         9 of Clubs         10 of Clubs        \n",
      "Jack of Clubs      Queen of Clubs     King of Clubs      Ace of Spades      \n",
      "2 of Spades        3 of Spades        4 of Spades        5 of Spades        \n",
      "6 of Spades        7 of Spades        8 of Spades        9 of Spades        \n",
      "10 of Spades       Jack of Spades     Queen of Spades    King of Spades     \n",
      "\n"
     ]
    }
   ],
   "source": [
    "print(deck_of_cards)"
   ]
  },
  {
   "cell_type": "markdown",
   "id": "e5847d3b-e491-498a-a2fb-0cd68c6613fd",
   "metadata": {},
   "source": [
    "<b>Self Check"
   ]
  },
  {
   "cell_type": "code",
   "execution_count": 170,
   "id": "f0464faf-593e-4da8-82a0-f1d82f9093e8",
   "metadata": {},
   "outputs": [],
   "source": [
    "from carddataclass import Card"
   ]
  },
  {
   "cell_type": "code",
   "execution_count": 171,
   "id": "0a98a952-e387-4c68-9e78-0f30e0f6cc0e",
   "metadata": {},
   "outputs": [],
   "source": [
    "c = Card('Ace', 'Spades')"
   ]
  },
  {
   "cell_type": "code",
   "execution_count": 172,
   "id": "d17e4d05-e290-4a44-a7c3-e566e0c474d4",
   "metadata": {},
   "outputs": [
    {
     "data": {
      "text/plain": [
       "Card(face='Ace', suit='Spades')"
      ]
     },
     "execution_count": 172,
     "metadata": {},
     "output_type": "execute_result"
    }
   ],
   "source": [
    "c"
   ]
  },
  {
   "cell_type": "code",
   "execution_count": 173,
   "id": "7a0e3fe6-a9ae-41ba-9e9b-69958975222d",
   "metadata": {},
   "outputs": [
    {
     "data": {
      "text/plain": [
       "str"
      ]
     },
     "execution_count": 173,
     "metadata": {},
     "output_type": "execute_result"
    }
   ],
   "source": [
    "type(c.face)"
   ]
  },
  {
   "cell_type": "code",
   "execution_count": 174,
   "id": "9b695bd2-78e0-4a8e-9c3e-c059167178f1",
   "metadata": {},
   "outputs": [],
   "source": [
    "c.face = 100"
   ]
  },
  {
   "cell_type": "code",
   "execution_count": 175,
   "id": "89d29683-7273-4036-9585-a766ef3240a6",
   "metadata": {},
   "outputs": [
    {
     "data": {
      "text/plain": [
       "Card(face=100, suit='Spades')"
      ]
     },
     "execution_count": 175,
     "metadata": {},
     "output_type": "execute_result"
    }
   ],
   "source": [
    "c"
   ]
  },
  {
   "cell_type": "code",
   "execution_count": 176,
   "id": "62aa61c7-317c-4fff-8d64-14757bc98582",
   "metadata": {},
   "outputs": [
    {
     "data": {
      "text/plain": [
       "int"
      ]
     },
     "execution_count": 176,
     "metadata": {},
     "output_type": "execute_result"
    }
   ],
   "source": [
    "type(c.face)"
   ]
  },
  {
   "cell_type": "markdown",
   "id": "b8182658-286f-4840-8b4f-29abbd1eba29",
   "metadata": {},
   "source": [
    "# 10.15 Namespaces and Scopes\n",
    "<b>Finding Identifies in Namespaces"
   ]
  },
  {
   "cell_type": "code",
   "execution_count": 177,
   "id": "0a5ae733-c812-4473-a8de-87def1ed9c5c",
   "metadata": {},
   "outputs": [],
   "source": [
    "z = 'global z'"
   ]
  },
  {
   "cell_type": "code",
   "execution_count": 178,
   "id": "7c8737dd-4a55-4e4c-8c4c-3b0d9083a448",
   "metadata": {},
   "outputs": [],
   "source": [
    "def print_variables():\n",
    "    y = 'local y in print_variables'\n",
    "    print(y)\n",
    "    print(z)"
   ]
  },
  {
   "cell_type": "code",
   "execution_count": 179,
   "id": "5e1ad0f7-ca20-4406-a326-cf2d90049bf3",
   "metadata": {},
   "outputs": [
    {
     "name": "stdout",
     "output_type": "stream",
     "text": [
      "local y in print_variables\n",
      "global z\n"
     ]
    }
   ],
   "source": [
    "print_variables()"
   ]
  },
  {
   "cell_type": "code",
   "execution_count": 180,
   "id": "9c00fe17-e269-4c20-a9cd-fc4441fa2f7e",
   "metadata": {},
   "outputs": [
    {
     "data": {
      "text/plain": [
       "'global z'"
      ]
     },
     "execution_count": 180,
     "metadata": {},
     "output_type": "execute_result"
    }
   ],
   "source": [
    "z"
   ]
  },
  {
   "cell_type": "code",
   "execution_count": 181,
   "id": "ce0f98ff-6e39-4433-aee6-c36b8201e8a1",
   "metadata": {},
   "outputs": [
    {
     "name": "stdout",
     "output_type": "stream",
     "text": [
      "My name is Naiema\n"
     ]
    }
   ],
   "source": [
    "print('My name is Naiema')"
   ]
  }
 ],
 "metadata": {
  "kernelspec": {
   "display_name": "Python 3 (ipykernel)",
   "language": "python",
   "name": "python3"
  },
  "language_info": {
   "codemirror_mode": {
    "name": "ipython",
    "version": 3
   },
   "file_extension": ".py",
   "mimetype": "text/x-python",
   "name": "python",
   "nbconvert_exporter": "python",
   "pygments_lexer": "ipython3",
   "version": "3.9.12"
  }
 },
 "nbformat": 4,
 "nbformat_minor": 5
}
